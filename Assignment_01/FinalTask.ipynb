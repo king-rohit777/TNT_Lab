{
 "cells": [
  {
   "cell_type": "markdown",
   "metadata": {},
   "source": [
    "**IMPLEMENT THE FOLLOWING SORTING ALGORITHMS :**\n",
    "\n",
    "- SELECTION SORT\n",
    "- INSERTION SORT\n",
    "- BUBBLE SORT\n",
    "- QUICK SORT\n",
    "- MERGE SORT"
   ]
  },
  {
   "cell_type": "code",
   "execution_count": 52,
   "metadata": {},
   "outputs": [],
   "source": [
    "n= int(input(\"Enter the number of elements: \"))\n",
    "arr=[]\n",
    "for i in range(n):\n",
    "    l=int(input(\"Enter the element: \"))\n",
    "    arr.append(l)"
   ]
  },
  {
   "cell_type": "code",
   "execution_count": 8,
   "metadata": {},
   "outputs": [
    {
     "name": "stdout",
     "output_type": "stream",
     "text": [
      "The unsorted array is:  [2, 2, 4, 6, 7]\n",
      "The number of comparasions is:  10\n",
      "The number of swaps is:  0\n",
      "The sorted array is:  [2, 2, 4, 6, 7]\n",
      "The execution of above program is: 0.0\n"
     ]
    }
   ],
   "source": [
    "#selection sort\n",
    "import time\n",
    "print (\"The unsorted array is: \",arr)\n",
    "\n",
    "start=time.time()\n",
    "def selection_sort(arr):\n",
    "    comp=0\n",
    "    swap=0\n",
    "    for i in range(len (arr)):\n",
    "        min_idx=i\n",
    "        for j in range(i+1,len(arr)):\n",
    "            if arr[min_idx] > arr[j]:\n",
    "                swap=swap+1\n",
    "                min_idx=j\n",
    "            comp=comp+1\n",
    "        arr[i],arr[min_idx]=arr[min_idx],arr[i]\n",
    "    print (\"The number of comparasions is: \",comp)\n",
    "    print(\"The number of swaps is: \",swap)\n",
    "    return(arr)\n",
    "end=time.time()\n",
    "\n",
    "\n",
    "print(\"The sorted array is: \",selection_sort(arr))\n",
    "print (\"The execution of above program is:\",end-start)\n"
   ]
  },
  {
   "cell_type": "code",
   "execution_count": 53,
   "metadata": {},
   "outputs": [
    {
     "name": "stdout",
     "output_type": "stream",
     "text": [
      "The unsorted array is:  [50, 10, 30, 80, 70, 20, 60, 40]\n",
      "The number of comparasions is:  14\n"
     ]
    }
   ],
   "source": [
    "#insertion sort\n",
    "import time\n",
    "print (\"The unsorted array is: \",arr)\n",
    "comp=0\n",
    "swap=0\n",
    "start = time.time()\n",
    "for i in range(1, len(arr)):\n",
    "    key = arr[i]\n",
    "    j = i - 1\n",
    "    if key>arr[j]:\n",
    "        comp+=1\n",
    "    else:\n",
    "        while j >= 0 and key < arr[j]:\n",
    "            swap = swap+1\n",
    "            comp+=1\n",
    "            \n",
    "            arr[j + 1] = arr[j]\n",
    "            j = j - 1\n",
    "            arr[j + 1] = key\n",
    "\n",
    "            \n",
    "\n",
    "#print(\"sorted Array after Insertion sort: \",(arr))\n",
    "end = time.time()\n",
    "\n",
    "print(\"The number of comparasions is: \",comp)\n",
    "# print(\"The number of swaps is: \",swap)\n",
    "# print(\"The time of execution of above program is :\", end-start)\n",
    "\n"
   ]
  },
  {
   "cell_type": "code",
   "execution_count": 33,
   "metadata": {},
   "outputs": [
    {
     "name": "stdout",
     "output_type": "stream",
     "text": [
      "The unsorted array is:  [3, 1, 4, 2, 6]\n",
      "The number of swaps is:  3\n",
      "sorted Array after Bubble sort:  [1, 2, 3, 4, 6]\n",
      "The number of comparasions is:  2\n",
      "The time of execution of above program is : 0.002989530563354492\n"
     ]
    }
   ],
   "source": [
    "# Bubble Sort\n",
    "import time\n",
    "print (\"The unsorted array is: \",arr)\n",
    "start=time.time()\n",
    "def bubble_sort(arr):\n",
    "    swap=0\n",
    "    comp=0\n",
    "    for i in range(len(arr)):\n",
    "        for j in range(0, len(arr) - i - 1):\n",
    "            comp=comp+1\n",
    "            if arr[j] > arr[j + 1]:\n",
    "                swap=swap+1\n",
    "                temp = arr[j]\n",
    "                arr[j] = arr[j+1]\n",
    "                arr[j+1] = temp\n",
    "    \n",
    "    print(\"The number of swaps is: \",swap)\n",
    "    return (arr)\n",
    " \n",
    "print(\"The number of comparasions is: \",comp)\n",
    "print(\"sorted Array after Bubble sort: \",bubble_sort(arr))\n",
    "end=time.time()\n",
    "\n",
    "print(\"The time of execution of above program is :\", end-start)"
   ]
  },
  {
   "cell_type": "code",
   "execution_count": 13,
   "metadata": {},
   "outputs": [
    {
     "name": "stdout",
     "output_type": "stream",
     "text": [
      "The unsorted array is:  [1, 2, 3, 4, 5]\n",
      "The sorted array after QuickSort:  [1, 2, 3, 4, 5]\n",
      "The time of execution of above program is : 0.006624698638916016\n"
     ]
    }
   ],
   "source": [
    "# Quick Sort\n",
    "import time\n",
    "\n",
    "print (\"The unsorted array is: \",arr)\n",
    "\n",
    "# Quick Sort Partition\n",
    "def partition(arr, low, high):\n",
    "  \n",
    "  pivot = arr[high]\n",
    "  i = low - 1\n",
    "\n",
    "  for j in range(low, high):\n",
    "    if arr[j] <= pivot:\n",
    "      i = i + 1\n",
    "      (arr[i], arr[j]) = (arr[j], arr[i])\n",
    "\n",
    "\n",
    "  (arr[i + 1], arr[high]) = (arr[high], arr[i + 1])\n",
    "  return i + 1\n",
    "        \n",
    "\n",
    "start=time.time()\n",
    "def quickSort(arr, low, high):\n",
    "  if low < high:\n",
    "\n",
    "    pi = partition(arr, low, high)\n",
    "    quickSort(arr, low, pi - 1)\n",
    "    quickSort(arr, pi + 1, high)\n",
    "\n",
    "size=len(arr)\n",
    "quickSort(arr,0,size-1)\n",
    "\n",
    "print (\"The sorted array after QuickSort: \",arr) \n",
    "end=time.time()\n",
    "print(\"The time of execution of above program is :\", end-start)"
   ]
  },
  {
   "cell_type": "code",
   "execution_count": 14,
   "metadata": {},
   "outputs": [
    {
     "name": "stdout",
     "output_type": "stream",
     "text": [
      "The unsorted array is:  [1, 2, 3, 4, 5]\n",
      "The sorted array after Merge Sort:  [1, 2, 3, 4, 5]\n",
      "The time of execution of above program is : 0.0010406970977783203\n"
     ]
    }
   ],
   "source": [
    "# Merge Sort\n",
    "import time\n",
    "\n",
    "print (\"The unsorted array is: \",arr)\n",
    "\n",
    "start=time.time()\n",
    "def mergeSort(arr):\n",
    "    if len(arr) > 1:\n",
    "\n",
    "        r = len(arr)//2\n",
    "        L = arr[:r]\n",
    "        M = arr[r:]\n",
    "\n",
    "        \n",
    "        mergeSort(L)\n",
    "        mergeSort(M)\n",
    "\n",
    "        i = j = k = 0\n",
    "\n",
    "        while i < len(L) and j < len(M):\n",
    "            if L[i] < M[j]:\n",
    "                arr[k] = L[i]\n",
    "                i += 1\n",
    "            else:\n",
    "                arr[k] = M[j]\n",
    "                j += 1\n",
    "            k += 1\n",
    "\n",
    "        while i < len(L):\n",
    "            arr[k] = L[i]\n",
    "            i += 1\n",
    "            k += 1\n",
    "\n",
    "        while j < len(M):\n",
    "            arr[k] = M[j]\n",
    "            j += 1\n",
    "            k += 1\n",
    "            \n",
    "mergeSort(arr)\n",
    "print (\"The sorted array after Merge Sort: \",arr) \n",
    "end=time.time()\n",
    "\n",
    "print(\"The time of execution of above program is :\", end-start)\n"
   ]
  },
  {
   "cell_type": "code",
   "execution_count": 21,
   "metadata": {},
   "outputs": [
    {
     "name": "stdout",
     "output_type": "stream",
     "text": [
      "The input array is:  [1, 2, 3, 4, 5]\n",
      "Array is already sorted\n",
      "Number of swaps needed to sort it:  0\n",
      "The sorted array is:  [1, 2, 3, 4, 5]\n"
     ]
    }
   ],
   "source": [
    "class Solution:\n",
    "    def solve(self, arr):\n",
    "        sort_seq = sorted(arr)\n",
    "        table = {}\n",
    "\n",
    "        for i, n in enumerate(arr):\n",
    "            table[n] = i\n",
    "\n",
    "        swaps = 0\n",
    "        for i in range(len(arr)):\n",
    "            n = arr[i]\n",
    "            s_n = sort_seq[i]\n",
    "            s_i = table[s_n]\n",
    "\n",
    "            if s_n != n:\n",
    "                swaps += 1\n",
    "                arr[s_i] = n\n",
    "                arr[i] = s_n\n",
    "                table[n] = s_i\n",
    "                table[s_n] = i\n",
    "\n",
    "        return swaps\n",
    "\n",
    "ob = Solution()\n",
    "\n",
    "\n",
    "n= int(input(\"Enter the number of elements: \"))\n",
    "arr=[]\n",
    "for i in range(n):\n",
    "    l=int(input())\n",
    "    arr.append(l)\n",
    "\n",
    "print (\"The input array is: \",arr)\n",
    "swaps = ob.solve(arr)\n",
    "if(swaps == 0):\n",
    "    print(\"Array is already sorted\")\n",
    "elif swaps == ((n-1)/2):\n",
    "    print(\"Array is in reverse order\")\n",
    "else:\n",
    "    print(\"Array is randomly sorted\")\n",
    "\n",
    "\n",
    "print(\"Number of swaps needed to sort it: \",swaps)\n",
    "print(\"The sorted array is: \",arr)"
   ]
  },
  {
   "cell_type": "code",
   "execution_count": null,
   "metadata": {},
   "outputs": [],
   "source": [
    "import random\n",
    "\n",
    "def _quickSort(lst):\n",
    "    \n",
    "    if len(lst) <= 1:\n",
    "        return lst\n",
    "    smaller, equal, larger = [], [], []\n",
    "    pivot = random.choice(lst)\n",
    "\n",
    "    for x in lst:\n",
    "        if x < pivot: smaller.append(x)\n",
    "        elif x == pivot: equal.append(x)\n",
    "        else: larger.append(x)\n",
    "    return _quickSort(smaller) + equal + _quickSort(larger)\n",
    "\n",
    "def quickSort(lst, ascending=True):\n",
    "    if ascending:\n",
    "        return _quickSort(lst)\n",
    "    else:\n",
    "        return _quickSort(lst)[::-1]\n",
    "\n",
    "\n",
    "lst = [3, 2, -1, 9, 17, 4, 1, 0]\n",
    "\n",
    "lst = quickSort(lst, ascending=True)\n",
    "\n",
    "print(lst)"
   ]
  },
  {
   "cell_type": "markdown",
   "metadata": {},
   "source": [
    "# test bubble sort"
   ]
  },
  {
   "cell_type": "code",
   "execution_count": 2,
   "metadata": {},
   "outputs": [
    {
     "name": "stdout",
     "output_type": "stream",
     "text": [
      "number of swaps: 1, array:[34, 64, 25, 12, 22, 11]\n",
      "number of swaps: 2, array:[34, 25, 64, 12, 22, 11]\n",
      "number of swaps: 3, array:[34, 25, 12, 64, 22, 11]\n",
      "number of swaps: 4, array:[34, 25, 12, 22, 64, 11]\n",
      "number of swaps: 5, array:[34, 25, 12, 22, 11, 64]\n",
      "number of swaps: 6, array:[25, 34, 12, 22, 11, 64]\n",
      "number of swaps: 7, array:[25, 12, 34, 22, 11, 64]\n",
      "number of swaps: 8, array:[25, 12, 22, 34, 11, 64]\n",
      "number of swaps: 9, array:[25, 12, 22, 11, 34, 64]\n",
      "number of swaps: 10, array:[12, 25, 22, 11, 34, 64]\n",
      "number of swaps: 11, array:[12, 22, 25, 11, 34, 64]\n",
      "number of swaps: 12, array:[12, 22, 11, 25, 34, 64]\n",
      "number of swaps: 13, array:[12, 11, 22, 25, 34, 64]\n",
      "number of swaps: 14, array:[11, 12, 22, 25, 34, 64]\n",
      "14\n",
      "Sorted array is:\n",
      "11\n",
      "12\n",
      "22\n",
      "25\n",
      "34\n",
      "64\n"
     ]
    }
   ],
   "source": [
    "def bubbleSort(arr): \n",
    "    n = len(arr) \n",
    "    count = 0\n",
    "  \n",
    "    # Traverse through all array elements \n",
    "    for i in range(n): \n",
    "  \n",
    "        # Last i elements are already in place \n",
    "        for j in range(0, n-i-1): \n",
    "            if arr[j] > arr[j+1] : \n",
    "                count = count + 1\n",
    "                arr[j], arr[j+1] = arr[j+1], arr[j]\n",
    "                print(f\"number of swaps: {count}, array:{arr}\")\n",
    "    print(count)\n",
    "  \n",
    "# Driver code to test above \n",
    "arr = [64, 34, 25, 12, 22, 11] \n",
    "  \n",
    "bubbleSort(arr) \n",
    "\n",
    "print (\"Sorted array is:\") \n",
    "for i in range(len(arr)): \n",
    "    print (\"%d\" %arr[i]),"
   ]
  }
 ],
 "metadata": {
  "interpreter": {
   "hash": "ac59ebe37160ed0dfa835113d9b8498d9f09ceb179beaac4002f036b9467c963"
  },
  "kernelspec": {
   "display_name": "Python 3.9.6 64-bit",
   "language": "python",
   "name": "python3"
  },
  "language_info": {
   "codemirror_mode": {
    "name": "ipython",
    "version": 3
   },
   "file_extension": ".py",
   "mimetype": "text/x-python",
   "name": "python",
   "nbconvert_exporter": "python",
   "pygments_lexer": "ipython3",
   "version": "3.9.6"
  },
  "orig_nbformat": 4
 },
 "nbformat": 4,
 "nbformat_minor": 2
}
