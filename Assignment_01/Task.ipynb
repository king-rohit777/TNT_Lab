{
 "cells": [
  {
   "cell_type": "markdown",
   "metadata": {},
   "source": [
    "**IMPLEMENT THE FOLLOWING SORTING ALGORITHMS :**\n",
    "\n",
    "- SELECTION SORT\n",
    "- INSERTION SORT\n",
    "- BUBBLE SORT\n",
    "- QUICK SORT\n",
    "- MERGE SORT"
   ]
  },
  {
   "cell_type": "code",
   "execution_count": 1,
   "metadata": {},
   "outputs": [],
   "source": [
    "n= int(input(\"Enter the number of elements: \"))\n",
    "arr=[]\n",
    "for i in range(n):\n",
    "    l=int(input())\n",
    "    arr.append(l)"
   ]
  },
  {
   "cell_type": "code",
   "execution_count": 9,
   "metadata": {},
   "outputs": [
    {
     "name": "stdout",
     "output_type": "stream",
     "text": [
      "The unsorted array is:  [1, 2, 3, 4, 5]\n",
      "2.604856400000017\n"
     ]
    }
   ],
   "source": [
    "import timeit\n",
    "print (\"The unsorted array is: \",arr)\n",
    "\n",
    "time_taken=0.0\n",
    "\n",
    "def selection_sort(arr):\n",
    "    for i in range(len (arr)):\n",
    "        min_idx=i\n",
    "        for j in range(i+1,len(arr)):\n",
    "            if arr[min_idx] > arr[j]:\n",
    "                min_idx=j\n",
    "        arr[i],arr[min_idx]=arr[min_idx],arr[i]\n",
    "    \n",
    "    return(arr)\n",
    "\n",
    "\n",
    "t = timeit.timeit(lambda: selection_sort(arr))   \n",
    "print (t)\n"
   ]
  },
  {
   "cell_type": "code",
   "execution_count": 7,
   "metadata": {},
   "outputs": [
    {
     "name": "stdout",
     "output_type": "stream",
     "text": [
      "The unsorted array is:  [1, 2, 3, 4, 5]\n",
      "The time of execution of above program is : 19.354661226272583\n",
      "sorted Array after Insertion sort:  [1, 2, 3, 4, 5]\n"
     ]
    }
   ],
   "source": [
    "#insertion sort\n",
    "import time\n",
    "print (\"The unsorted array is: \",arr)\n",
    "\n",
    "\n",
    "for i in range(1, len(arr)):\n",
    "    key = arr[i]\n",
    "    j = i - 1\n",
    " \n",
    "    while j >= 0 and key < arr[j]:\n",
    "        arr[j + 1] = arr[j]\n",
    "        j = j - 1\n",
    "        arr[j + 1] = key\n",
    "\n",
    "end=time.time()  \n",
    "    \n",
    "print(\"The time of execution of above program is :\", end-start)\n",
    "print(\"sorted Array after Insertion sort: \",(arr))\n"
   ]
  },
  {
   "cell_type": "code",
   "execution_count": null,
   "metadata": {},
   "outputs": [],
   "source": [
    "# Bubble Sort\n",
    "\n",
    "n= int(input(\"Enter the number of elements: \"))\n",
    "arr=[]\n",
    "for i in range(n):\n",
    "    l=int(input())\n",
    "    arr.append(l)\n",
    "\n",
    "print (\"The unsorted array is: \",arr)\n",
    "\n",
    "def bubble_sort(arr):\n",
    "    for i in range(len(arr)):\n",
    "        for j in range(0, len(arr) - i - 1):\n",
    "            if arr[j] > arr[j + 1]:\n",
    "                temp = arr[j]\n",
    "                arr[j] = arr[j+1]\n",
    "                arr[j+1] = temp\n",
    "    \n",
    "    return (arr)\n",
    "    \n",
    "print(\"sorted Array after Bubble sort: \",bubble_sort(arr))"
   ]
  },
  {
   "cell_type": "code",
   "execution_count": null,
   "metadata": {},
   "outputs": [],
   "source": [
    "# Quick Sort\n",
    "\n",
    "n= int(input(\"Enter the number of elements: \"))\n",
    "arr=[]\n",
    "for i in range(n):\n",
    "    l=int(input())\n",
    "    arr.append(l)\n",
    "\n",
    "print (\"The unsorted array is: \",arr)\n",
    "\n",
    "# Quick Sort Partition\n",
    "def partition(arr, low, high):\n",
    "  \n",
    "  pivot = arr[high]\n",
    "  i = low - 1\n",
    "\n",
    "  for j in range(low, high):\n",
    "    if arr[j] <= pivot:\n",
    "      i = i + 1\n",
    "      (arr[i], arr[j]) = (arr[j], arr[i])\n",
    "\n",
    "\n",
    "  (arr[i + 1], arr[high]) = (arr[high], arr[i + 1])\n",
    "  return i + 1\n",
    "        \n",
    "\n",
    "def quickSort(arr, low, high):\n",
    "  if low < high:\n",
    "\n",
    "    pi = partition(arr, low, high)\n",
    "    quickSort(arr, low, pi - 1)\n",
    "    quickSort(arr, pi + 1, high)\n",
    "\n",
    "size=len(arr)\n",
    "quickSort(arr,0,size-1)\n",
    "\n",
    "print (\"The sorted array after QuickSort: \",arr) \n"
   ]
  },
  {
   "cell_type": "code",
   "execution_count": null,
   "metadata": {},
   "outputs": [],
   "source": [
    "# Merge Sort\n",
    "\n",
    "n= int(input(\"Enter the number of elements: \"))\n",
    "arr=[]\n",
    "for i in range(n):\n",
    "    l=int(input())\n",
    "    arr.append(l)\n",
    "\n",
    "print (\"The unsorted array is: \",arr)\n",
    "\n",
    "def mergeSort(arr):\n",
    "    if len(arr) > 1:\n",
    "\n",
    "        r = len(arr)//2\n",
    "        L = arr[:r]\n",
    "        M = arr[r:]\n",
    "\n",
    "        \n",
    "        mergeSort(L)\n",
    "        mergeSort(M)\n",
    "\n",
    "        i = j = k = 0\n",
    "\n",
    "        while i < len(L) and j < len(M):\n",
    "            if L[i] < M[j]:\n",
    "                arr[k] = L[i]\n",
    "                i += 1\n",
    "            else:\n",
    "                arr[k] = M[j]\n",
    "                j += 1\n",
    "            k += 1\n",
    "\n",
    "        while i < len(L):\n",
    "            arr[k] = L[i]\n",
    "            i += 1\n",
    "            k += 1\n",
    "\n",
    "        while j < len(M):\n",
    "            arr[k] = M[j]\n",
    "            j += 1\n",
    "            k += 1\n",
    "            \n",
    "mergeSort(arr)\n",
    "print (\"The sorted array after Merge Sort: \",arr)    \n"
   ]
  },
  {
   "cell_type": "code",
   "execution_count": 30,
   "metadata": {},
   "outputs": [
    {
     "name": "stdout",
     "output_type": "stream",
     "text": [
      "The input array is:  [4, 9, 7, 2, 6, 5]\n",
      "Array is randomly sorted\n",
      "Number of swaps needed to sort it:  5\n",
      "The sorted array is:  [2, 4, 5, 6, 7, 9]\n"
     ]
    }
   ],
   "source": [
    "class Solution:\n",
    "    def solve(self, arr):\n",
    "        sort_seq = sorted(arr)\n",
    "        table = {}\n",
    "\n",
    "        for i, n in enumerate(arr):\n",
    "            table[n] = i\n",
    "\n",
    "        swaps = 0\n",
    "        for i in range(len(arr)):\n",
    "            n = arr[i]\n",
    "            s_n = sort_seq[i]\n",
    "            s_i = table[s_n]\n",
    "\n",
    "            if s_n != n:\n",
    "                swaps += 1\n",
    "                arr[s_i] = n\n",
    "                arr[i] = s_n\n",
    "                table[n] = s_i\n",
    "                table[s_n] = i\n",
    "\n",
    "        return swaps\n",
    "\n",
    "ob = Solution()\n",
    "\n",
    "\n",
    "n= int(input(\"Enter the number of elements: \"))\n",
    "arr=[]\n",
    "for i in range(n):\n",
    "    l=int(input())\n",
    "    arr.append(l)\n",
    "\n",
    "print (\"The input array is: \",arr)\n",
    "swaps = ob.solve(arr)\n",
    "if(swaps == 0):\n",
    "    print(\"Array is already sorted\")\n",
    "elif swaps == ((n-1)/2):\n",
    "    print(\"Array is in reverse order\")\n",
    "else:\n",
    "    print(\"Array is randomly sorted\")\n",
    "\n",
    "\n",
    "print(\"Number of swaps needed to sort it: \",swaps)\n",
    "print(\"The sorted array is: \",arr)"
   ]
  },
  {
   "cell_type": "code",
   "execution_count": 36,
   "metadata": {},
   "outputs": [
    {
     "name": "stdout",
     "output_type": "stream",
     "text": [
      "[-1, 0, 1, 2, 3, 4, 9, 17]\n"
     ]
    }
   ],
   "source": [
    "import random\n",
    "\n",
    "def _quickSort(lst):\n",
    "    \n",
    "    if len(lst) <= 1:\n",
    "        return lst\n",
    "    smaller, equal, larger = [], [], []\n",
    "    pivot = random.choice(lst)\n",
    "\n",
    "    for x in lst:\n",
    "        if x < pivot: smaller.append(x)\n",
    "        elif x == pivot: equal.append(x)\n",
    "        else: larger.append(x)\n",
    "    return _quickSort(smaller) + equal + _quickSort(larger)\n",
    "\n",
    "def quickSort(lst, ascending=True):\n",
    "    if ascending:\n",
    "        return _quickSort(lst)\n",
    "    else:\n",
    "        return _quickSort(lst)[::-1]\n",
    "\n",
    "\n",
    "lst = [3, 2, -1, 9, 17, 4, 1, 0]\n",
    "\n",
    "lst = quickSort(lst, ascending=True)\n",
    "\n",
    "print(lst) "
   ]
  }
 ],
 "metadata": {
  "interpreter": {
   "hash": "ac59ebe37160ed0dfa835113d9b8498d9f09ceb179beaac4002f036b9467c963"
  },
  "kernelspec": {
   "display_name": "Python 3.9.6 64-bit",
   "language": "python",
   "name": "python3"
  },
  "language_info": {
   "codemirror_mode": {
    "name": "ipython",
    "version": 3
   },
   "file_extension": ".py",
   "mimetype": "text/x-python",
   "name": "python",
   "nbconvert_exporter": "python",
   "pygments_lexer": "ipython3",
   "version": "3.9.6"
  },
  "orig_nbformat": 4
 },
 "nbformat": 4,
 "nbformat_minor": 2
}
