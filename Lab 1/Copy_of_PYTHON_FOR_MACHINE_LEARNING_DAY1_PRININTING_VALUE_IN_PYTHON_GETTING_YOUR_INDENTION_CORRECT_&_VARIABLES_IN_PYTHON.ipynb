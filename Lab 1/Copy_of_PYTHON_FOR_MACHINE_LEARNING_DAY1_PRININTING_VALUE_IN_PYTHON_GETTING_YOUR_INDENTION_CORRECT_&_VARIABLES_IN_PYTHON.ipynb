{
  "nbformat": 4,
  "nbformat_minor": 0,
  "metadata": {
    "colab": {
      "name": "Copy of PYTHON FOR MACHINE LEARNING - DAY1_PRININTING VALUE IN PYTHON GETTING YOUR INDENTION CORRECT & VARIABLES IN PYTHON.ipynb",
      "provenance": [],
      "collapsed_sections": [
        "ACimI9QWG3Ac",
        "Bmoq9siGG3Aw",
        "M4JSec_dG3BV",
        "vkBcgLOgG3EA",
        "rWa0Tmi3G3E6",
        "IuPrhxuaG3GR",
        "iPdnatWyG3HJ",
        "IUyRW5UKG3HX"
      ],
      "include_colab_link": true
    },
    "language_info": {
      "codemirror_mode": {
        "name": "ipython",
        "version": 3
      },
      "file_extension": ".py",
      "mimetype": "text/x-python",
      "name": "python",
      "nbconvert_exporter": "python",
      "pygments_lexer": "ipython3",
      "version": "3.7.0"
    },
    "kernelspec": {
      "display_name": "Python 3",
      "language": "python",
      "name": "python3"
    }
  },
  "cells": [
    {
      "cell_type": "markdown",
      "metadata": {
        "id": "view-in-github",
        "colab_type": "text"
      },
      "source": [
        "<a href=\"https://colab.research.google.com/github/spandan1460/TnT-Lab/blob/master/Copy_of_PYTHON_FOR_MACHINE_LEARNING_DAY1_PRININTING_VALUE_IN_PYTHON_GETTING_YOUR_INDENTION_CORRECT_%26_VARIABLES_IN_PYTHON.ipynb\" target=\"_parent\"><img src=\"https://colab.research.google.com/assets/colab-badge.svg\" alt=\"Open In Colab\"/></a>"
      ]
    },
    {
      "cell_type": "markdown",
      "metadata": {
        "id": "MThQm8KVG29K"
      },
      "source": [
        "# MY FIRST PYTHON PROGRAM"
      ]
    },
    {
      "cell_type": "code",
      "metadata": {
        "id": "dgf9JivN270U"
      },
      "source": [
        "a = 5\n",
        "b = 6\n",
        "c = a + b"
      ],
      "execution_count": null,
      "outputs": []
    },
    {
      "cell_type": "code",
      "metadata": {
        "id": "uGNOa4s8G63x",
        "colab": {
          "base_uri": "https://localhost:8080/"
        },
        "outputId": "6f6f04fe-9e90-4a83-d857-f48ed54c3652"
      },
      "source": [
        "print(\"1Hello My first Program\")\n",
        "print('2Hello My first Program')\n",
        "print('2')\n",
        "print(\"2\")"
      ],
      "execution_count": null,
      "outputs": [
        {
          "output_type": "stream",
          "name": "stdout",
          "text": [
            "1Hello My first Program\n",
            "2Hello My first Program\n",
            "2\n",
            "2\n"
          ]
        }
      ]
    },
    {
      "cell_type": "code",
      "metadata": {
        "colab": {
          "base_uri": "https://localhost:8080/"
        },
        "id": "k651Ny_42BgQ",
        "outputId": "c2caf723-6110-4e92-881b-757685b3c586"
      },
      "source": [
        "2+3"
      ],
      "execution_count": null,
      "outputs": [
        {
          "output_type": "execute_result",
          "data": {
            "text/plain": [
              "5"
            ]
          },
          "metadata": {
            "tags": []
          },
          "execution_count": 1
        }
      ]
    },
    {
      "cell_type": "code",
      "metadata": {
        "id": "i_8nvxKrG29O",
        "colab": {
          "base_uri": "https://localhost:8080/"
        },
        "outputId": "fa54a3fa-3203-4019-ed65-caf3d7cef8b8"
      },
      "source": [
        "print(\"1.HELLO WORLD\")\n",
        "print('2.HELLO WORLD') # Python everything is a string '', \"\", \"''\", ''' MUltiline Comment\n",
        "print(\"3HELLO\" \"\\n WORLD\") #\\n is the new line charecter\n",
        "print(\"4HELLO \\t WORLD\")"
      ],
      "execution_count": null,
      "outputs": [
        {
          "output_type": "stream",
          "text": [
            "3HELLO\n",
            " WORLD\n",
            "4HELLO \t WORLD\n"
          ],
          "name": "stdout"
        }
      ]
    },
    {
      "cell_type": "code",
      "metadata": {
        "id": "6nojm0iKiAeo"
      },
      "source": [
        "print('Maa Ambika')"
      ],
      "execution_count": null,
      "outputs": []
    },
    {
      "cell_type": "markdown",
      "metadata": {
        "id": "ZBp44Dh_G29d"
      },
      "source": [
        "ASSIGNMENT: Print the following Patterns\n",
        "HELLO\n",
        "    WORLD\n",
        "    \n",
        "    HELLO\n",
        "WORLD\n",
        "\n",
        "HELLO         WORLD\n"
      ]
    },
    {
      "cell_type": "markdown",
      "metadata": {
        "id": "ohM6_rUWG29g"
      },
      "source": [
        ""
      ]
    },
    {
      "cell_type": "code",
      "metadata": {
        "id": "hq0_BjD2G29i",
        "colab": {
          "base_uri": "https://localhost:8080/",
          "height": 102
        },
        "outputId": "2f8de480-70b3-49fd-9a96-f1259e158848"
      },
      "source": [
        "print(\"HELLO \\n \\t WORLD\")\n",
        "print(\"\\tHELLO\")\n",
        "print(\"WORLD\")\n",
        "#print()\n",
        "print('Welcome')"
      ],
      "execution_count": null,
      "outputs": [
        {
          "output_type": "stream",
          "text": [
            "HELLO \n",
            " \t WORLD\n",
            "\tHELLO\n",
            "WORLD\n",
            "Welcome\n"
          ],
          "name": "stdout"
        }
      ]
    },
    {
      "cell_type": "markdown",
      "metadata": {
        "id": "niNZBtRkG29w"
      },
      "source": [
        "EMPTY PRINT FUNCTION"
      ]
    },
    {
      "cell_type": "markdown",
      "metadata": {
        "id": "O1H3FY4uG29y"
      },
      "source": [
        "print with Multiple Arguments"
      ]
    },
    {
      "cell_type": "code",
      "metadata": {
        "id": "taUVO75wG291",
        "colab": {
          "base_uri": "https://localhost:8080/",
          "height": 35
        },
        "outputId": "40a85af9-c01f-46b8-be6c-cf344e01ad29"
      },
      "source": [
        "print(\"Hi\",\"How\",\"R\",\"U\")"
      ],
      "execution_count": null,
      "outputs": [
        {
          "output_type": "stream",
          "text": [
            "Hi How R U\n"
          ],
          "name": "stdout"
        }
      ]
    },
    {
      "cell_type": "code",
      "metadata": {
        "scrolled": true,
        "id": "GpXEyK9lG2-E",
        "colab": {
          "base_uri": "https://localhost:8080/",
          "height": 35
        },
        "outputId": "835d7dbc-721f-4ebd-8cf4-0e8860bcdea9"
      },
      "source": [
        "print(\"Hi\", \"I\\tm\", 5,\"ne\")"
      ],
      "execution_count": null,
      "outputs": [
        {
          "output_type": "stream",
          "text": [
            "Hi I\tm 5 ne\n"
          ],
          "name": "stdout"
        }
      ]
    },
    {
      "cell_type": "code",
      "metadata": {
        "id": "lQYZosPTG2-S",
        "colab": {
          "base_uri": "https://localhost:8080/",
          "height": 35
        },
        "outputId": "dff234cb-ec4e-4ca5-ccba-532fc703d018"
      },
      "source": [
        "print(\"IoT\", \"Python\", 'Is', 'Very', 'Popular')"
      ],
      "execution_count": null,
      "outputs": [
        {
          "output_type": "stream",
          "text": [
            "IoT Python Is Very Popular\n"
          ],
          "name": "stdout"
        }
      ]
    },
    {
      "cell_type": "code",
      "metadata": {
        "colab": {
          "base_uri": "https://localhost:8080/"
        },
        "id": "71slTN38nvI7",
        "outputId": "676fcd81-a9af-4347-afc8-5afa1c67e949"
      },
      "source": [
        "print(\"Bhubaneswar is Capital City of Odisha\")\n",
        "print(\"It is also the Temple City of India\")"
      ],
      "execution_count": null,
      "outputs": [
        {
          "output_type": "stream",
          "text": [
            "Bhubaneswar is Capital City of Odisha\n",
            "It is also the Temple City of India\n"
          ],
          "name": "stdout"
        }
      ]
    },
    {
      "cell_type": "markdown",
      "metadata": {
        "id": "znRLRbXDG2-g"
      },
      "source": [
        "# THE \"end=\" ATTRIBUTE\n",
        "\n",
        "> Indented block\n",
        "\n",
        "> Indented block\n",
        "\n",
        "\n",
        "\n"
      ]
    },
    {
      "cell_type": "code",
      "metadata": {
        "id": "4H3OeCdGqxAg",
        "colab": {
          "base_uri": "https://localhost:8080/",
          "height": 69
        },
        "outputId": "4e2dc1cb-33d6-4084-c2c4-712365c027b5"
      },
      "source": [
        "print('Helllo',\"India\" ) # Hello IndiaWorld\n",
        "print('World')\n",
        "print('India')"
      ],
      "execution_count": null,
      "outputs": [
        {
          "output_type": "stream",
          "text": [
            "Helllo India\n",
            "World\n",
            "India\n"
          ],
          "name": "stdout"
        }
      ]
    },
    {
      "cell_type": "code",
      "metadata": {
        "scrolled": true,
        "id": "KMOBv9oEG2-j",
        "colab": {
          "base_uri": "https://localhost:8080/"
        },
        "outputId": "2d67dcf7-c91a-40c3-f010-a872180ed7cc"
      },
      "source": [
        "print(\"My Name is Bond\", end = ', ')\n",
        "print(\"James Bond\")"
      ],
      "execution_count": null,
      "outputs": [
        {
          "output_type": "stream",
          "text": [
            "My Name is Bond, James Bond\n"
          ],
          "name": "stdout"
        }
      ]
    },
    {
      "cell_type": "code",
      "metadata": {
        "id": "qEm3KhKlUYT8"
      },
      "source": [
        ""
      ],
      "execution_count": null,
      "outputs": []
    },
    {
      "cell_type": "code",
      "metadata": {
        "id": "Hu7lDkkOUV72"
      },
      "source": [
        ""
      ],
      "execution_count": null,
      "outputs": []
    },
    {
      "cell_type": "code",
      "metadata": {
        "id": "MLeIINaQG2-w",
        "colab": {
          "base_uri": "https://localhost:8080/",
          "height": 34
        },
        "outputId": "6844feaf-ce0c-49e1-df63-69ff88e7e19c"
      },
      "source": [
        "print(\"MY Name is Bond, \", end =\"\" )\n",
        "print(\"James Bond\")"
      ],
      "execution_count": null,
      "outputs": [
        {
          "output_type": "stream",
          "text": [
            "MY Name is Bond, James Bond\n"
          ],
          "name": "stdout"
        }
      ]
    },
    {
      "cell_type": "code",
      "metadata": {
        "id": "ZYyGkfZAY9xd",
        "colab": {
          "base_uri": "https://localhost:8080/",
          "height": 34
        },
        "outputId": "20a309e9-c896-4150-b9a9-9f4ecfcc79ec"
      },
      "source": [
        "print('Hi', 'Bye', 'Fine', sep = '123')"
      ],
      "execution_count": null,
      "outputs": [
        {
          "output_type": "stream",
          "text": [
            "Hi123Bye123Fine\n"
          ],
          "name": "stdout"
        }
      ]
    },
    {
      "cell_type": "code",
      "metadata": {
        "id": "O9c8kBNmG2_A",
        "colab": {
          "base_uri": "https://localhost:8080/"
        },
        "outputId": "30c4baba-cf64-499e-871e-491da18c2db3"
      },
      "source": [
        "print(\"My Name\", \"is Bond \",'Hello', sep = '*',end='------ ')\n",
        "print(\"James Bond\")"
      ],
      "execution_count": null,
      "outputs": [
        {
          "output_type": "stream",
          "text": [
            "My Name*is Bond *Hello------ James Bond\n"
          ],
          "name": "stdout"
        }
      ]
    },
    {
      "cell_type": "code",
      "metadata": {
        "id": "V0XTm9eAj53K",
        "colab": {
          "base_uri": "https://localhost:8080/",
          "height": 35
        },
        "outputId": "aeca59c3-8db6-4ca3-d590-4c38265a23b9"
      },
      "source": [
        "# sep attribute, separates the multiple parameters in print function\n",
        "print('THe result of ', '2+3', 'is', 2+3, sep='==')"
      ],
      "execution_count": null,
      "outputs": [
        {
          "output_type": "stream",
          "text": [
            "THe result of ==2+3==is==5\n"
          ],
          "name": "stdout"
        }
      ]
    },
    {
      "cell_type": "code",
      "metadata": {
        "id": "FMhQSYTzG2_Q",
        "colab": {
          "base_uri": "https://localhost:8080/",
          "height": 68
        },
        "outputId": "85720321-7200-4ddd-cb57-accabe164437"
      },
      "source": [
        "print(\"My Name is Bond \", end = '\\n\\t')\n",
        "print(\"James Bond\")\n",
        "\n",
        "print(\"My Name is Bond \", end = '*********')\n",
        "print(\"James Bond\")"
      ],
      "execution_count": null,
      "outputs": [
        {
          "output_type": "stream",
          "text": [
            "My Name is Bond \n",
            "\tJames Bond\n",
            "My Name is Bond *********James Bond\n"
          ],
          "name": "stdout"
        }
      ]
    },
    {
      "cell_type": "code",
      "metadata": {
        "id": "cG2Ap43ouk_Q"
      },
      "source": [
        "# Printing the output of ssum of two numbers\n",
        "a = 4\n",
        "b = 3\n",
        "c = a + b"
      ],
      "execution_count": null,
      "outputs": []
    },
    {
      "cell_type": "code",
      "metadata": {
        "colab": {
          "base_uri": "https://localhost:8080/"
        },
        "id": "-9Ad7AZdvWiy",
        "outputId": "dd14efce-3790-4235-d657-0c84836aead5"
      },
      "source": [
        "print(\"The sum is \",c)"
      ],
      "execution_count": null,
      "outputs": [
        {
          "output_type": "stream",
          "text": [
            "The sum is  7\n"
          ],
          "name": "stdout"
        }
      ]
    },
    {
      "cell_type": "code",
      "metadata": {
        "colab": {
          "base_uri": "https://localhost:8080/"
        },
        "id": "rPKvAX_7wBtj",
        "outputId": "6ce80c7a-3afb-4f83-eb0a-02d8aa78c090"
      },
      "source": [
        "print(\"The sum of \", a, \"and \", b, \"is \", c)"
      ],
      "execution_count": null,
      "outputs": [
        {
          "output_type": "stream",
          "text": [
            "The sum of  4 and  3 is  7\n"
          ],
          "name": "stdout"
        }
      ]
    },
    {
      "cell_type": "markdown",
      "metadata": {
        "id": "aPna1353G2_o"
      },
      "source": [
        "THE \"sep = \" ATTRIBUTE"
      ]
    },
    {
      "cell_type": "code",
      "metadata": {
        "scrolled": true,
        "id": "Y33W9n89G2_r",
        "colab": {
          "base_uri": "https://localhost:8080/",
          "height": 34
        },
        "outputId": "2623fc79-5c44-4059-b872-870833ed2e53"
      },
      "source": [
        "print(\"My Name is Bond\",\"James Bond\", sep=\"&&&&&&&\")"
      ],
      "execution_count": null,
      "outputs": [
        {
          "output_type": "stream",
          "text": [
            "My Name is Bond&&&&&&&James Bond\n"
          ],
          "name": "stdout"
        }
      ]
    },
    {
      "cell_type": "code",
      "metadata": {
        "id": "-cAQP7c8G2_4",
        "colab": {
          "base_uri": "https://localhost:8080/",
          "height": 51
        },
        "outputId": "35294168-b6d4-4f60-b5ac-26942024ce4f"
      },
      "source": [
        "print(\"My Name is Bond \", \"James Bond\", sep=\"\\n\")"
      ],
      "execution_count": null,
      "outputs": [
        {
          "output_type": "stream",
          "text": [
            "My Name is Bond \n",
            "James Bond\n"
          ],
          "name": "stdout"
        }
      ]
    },
    {
      "cell_type": "code",
      "metadata": {
        "id": "RDlDaHYOG3AF",
        "outputId": "37dcc742-d071-4dfd-be50-a480394bea80"
      },
      "source": [
        "print(\"My Name is Bond \", \"James Bond\", sep=\"\\t\")"
      ],
      "execution_count": null,
      "outputs": [
        {
          "output_type": "stream",
          "text": [
            "My Name is Bond \tJames Bond\n"
          ],
          "name": "stdout"
        }
      ]
    },
    {
      "cell_type": "markdown",
      "metadata": {
        "id": "ACimI9QWG3Ac"
      },
      "source": [
        "# PRINTING TO A FILE"
      ]
    },
    {
      "cell_type": "code",
      "metadata": {
        "id": "qM3dnP9bG3Ag"
      },
      "source": [
        "print(2, 'Luku', sep = '-', file=open('test.csv','w'))"
      ],
      "execution_count": null,
      "outputs": []
    },
    {
      "cell_type": "code",
      "metadata": {
        "id": "DTFDtB-1UmTR",
        "colab": {
          "base_uri": "https://localhost:8080/",
          "height": 104
        },
        "outputId": "3fff05e6-b164-43fe-e724-d0c7d6ec1ec0"
      },
      "source": [
        "X = int(input('Enter the Value for X'))\n",
        "print(type(X))\n",
        "Y = int(input('Enter for Y'))\n",
        "print(type(Y))\n",
        "Z = X + Y\n",
        "print(Z)"
      ],
      "execution_count": null,
      "outputs": [
        {
          "output_type": "stream",
          "text": [
            "Enter the Value for X12\n",
            "<class 'int'>\n",
            "Enter for Y13\n",
            "<class 'int'>\n",
            "25\n"
          ],
          "name": "stdout"
        }
      ]
    },
    {
      "cell_type": "code",
      "metadata": {
        "id": "Az2prHyPU11z",
        "colab": {
          "base_uri": "https://localhost:8080/",
          "height": 34
        },
        "outputId": "c3399a5f-bca7-40c9-d30d-692c4d79a334"
      },
      "source": [
        "p = float(input('Enter the Value for p'))"
      ],
      "execution_count": null,
      "outputs": [
        {
          "output_type": "stream",
          "text": [
            "Enter the Value for p2.3\n"
          ],
          "name": "stdout"
        }
      ]
    },
    {
      "cell_type": "markdown",
      "metadata": {
        "id": "Bmoq9siGG3Aw"
      },
      "source": [
        "# input() FUNCTION"
      ]
    },
    {
      "cell_type": "code",
      "metadata": {
        "colab": {
          "base_uri": "https://localhost:8080/"
        },
        "id": "_5Yi3GcR3499",
        "outputId": "e1655290-3c66-40a5-b0de-9c68ed0a91a0"
      },
      "source": [
        "a = 2\n",
        "print(a, 'Location of a = ', id(a),type(a))\n",
        "a = 2.3\n",
        "print(a, 'Location of a = ', id(a),type(a))\n",
        "a = \"Bhubaneswar\"\n",
        "print(a, 'Location of a = ', id(a),type(a))"
      ],
      "execution_count": null,
      "outputs": [
        {
          "output_type": "stream",
          "text": [
            "2 Location of a =  10914528 <class 'int'>\n",
            "2.3 Location of a =  140465356274304 <class 'float'>\n",
            "Bhubaneswar Location of a =  140465337235568 <class 'str'>\n"
          ],
          "name": "stdout"
        }
      ]
    },
    {
      "cell_type": "code",
      "metadata": {
        "id": "uD--j4BpG3A0",
        "colab": {
          "base_uri": "https://localhost:8080/"
        },
        "outputId": "e7b1c61f-c1ad-4285-8646-4dd66fc78d8a"
      },
      "source": [
        "x = input('Enter a Value for X=')\n",
        "print('X = ',x)\n",
        "print(type(x))"
      ],
      "execution_count": null,
      "outputs": [
        {
          "output_type": "stream",
          "text": [
            "Enter a Value for X=KIIT\n",
            "X =  KIIT\n",
            "<class 'str'>\n"
          ],
          "name": "stdout"
        }
      ]
    },
    {
      "cell_type": "code",
      "metadata": {
        "id": "oos9gmCX1I3_",
        "colab": {
          "base_uri": "https://localhost:8080/",
          "height": 52
        },
        "outputId": "d256b5f9-5f3e-4b2d-fe9c-948fb0eb8bc0"
      },
      "source": [
        "a = input('Enter value for a')\n",
        "print('a = ', a)"
      ],
      "execution_count": null,
      "outputs": [
        {
          "output_type": "stream",
          "text": [
            "Enter value for a123\n",
            "a =  123\n"
          ],
          "name": "stdout"
        }
      ]
    },
    {
      "cell_type": "code",
      "metadata": {
        "id": "F6Q4weXxks1G",
        "colab": {
          "base_uri": "https://localhost:8080/"
        },
        "outputId": "df223bc7-6eb6-4923-bb4c-b7e894314780"
      },
      "source": [
        "a = int(input('a = '))\n",
        "b = int(input('b = '))\n",
        "c = a + b\n",
        "print('c = ',c)"
      ],
      "execution_count": null,
      "outputs": [
        {
          "output_type": "stream",
          "text": [
            "a = 12\n",
            "b = 13\n",
            "c =  25\n"
          ],
          "name": "stdout"
        }
      ]
    },
    {
      "cell_type": "code",
      "metadata": {
        "id": "s9dKfRB2E8FW",
        "colab": {
          "base_uri": "https://localhost:8080/"
        },
        "outputId": "8e8cc660-3a7f-4223-e359-e0029286d39e"
      },
      "source": [
        "x = int(input('Enter value for X :: '))\n",
        "y = int(input('Enter value for Y :: '))\n",
        "print('Type of x is ', type(x))\n",
        "print('Type of y is ', type(y))\n",
        "z = x + y\n",
        "print(\"z = \", z)\n"
      ],
      "execution_count": null,
      "outputs": [
        {
          "output_type": "stream",
          "text": [
            "Enter value for X :: 26\n",
            "Enter value for Y :: 32\n",
            "Type of x is  <class 'int'>\n",
            "Type of y is  <class 'int'>\n",
            "z =  58\n"
          ],
          "name": "stdout"
        }
      ]
    },
    {
      "cell_type": "markdown",
      "metadata": {
        "id": "VVAPwgxiy8-g"
      },
      "source": [
        "WAP TO ADD , SUBSTRACT TWO NUMBERS TAKING THE INPUT FRO USER \n"
      ]
    },
    {
      "cell_type": "code",
      "metadata": {
        "colab": {
          "base_uri": "https://localhost:8080/"
        },
        "id": "0lwCj3fezNnL",
        "outputId": "95a69ac1-50a4-4c46-8108-f46a7260369b"
      },
      "source": [
        "x = int(input(\"Enter X \"))\n",
        "y =int(input(\"Enter Y\"))\n",
        "\n",
        "z = x + y\n",
        "print('z = ', z)"
      ],
      "execution_count": null,
      "outputs": [
        {
          "output_type": "stream",
          "text": [
            "Enter X 5\n",
            "Enter Y8\n",
            "z =  13\n"
          ],
          "name": "stdout"
        }
      ]
    },
    {
      "cell_type": "code",
      "metadata": {
        "id": "JosoFqgfyT-9",
        "colab": {
          "base_uri": "https://localhost:8080/",
          "height": 34
        },
        "outputId": "04f1ab20-0d02-4e5e-b5d4-2ec89f859cfc"
      },
      "source": [
        "x = 1234\n",
        "\n",
        "print(type(x))"
      ],
      "execution_count": null,
      "outputs": [
        {
          "output_type": "stream",
          "text": [
            "<class 'int'>\n"
          ],
          "name": "stdout"
        }
      ]
    },
    {
      "cell_type": "code",
      "metadata": {
        "id": "QePnQZpyG3BG",
        "colab": {
          "base_uri": "https://localhost:8080/",
          "height": 68
        },
        "outputId": "14bb0b8d-a0cc-47e3-81df-4a4f4d4393db"
      },
      "source": [
        "X = float(input(\"Enter a Number\"))\n",
        "print(type(X))\n",
        "print(X)"
      ],
      "execution_count": null,
      "outputs": [
        {
          "output_type": "stream",
          "text": [
            "Enter a Number2\n",
            "<class 'float'>\n",
            "2.0\n"
          ],
          "name": "stdout"
        }
      ]
    },
    {
      "cell_type": "markdown",
      "metadata": {
        "id": "M4JSec_dG3BV"
      },
      "source": [
        "#                                                LITERALS IN PYTHON"
      ]
    },
    {
      "cell_type": "code",
      "metadata": {
        "id": "UgYUcU-QG3BY",
        "outputId": "cc047cf2-9a41-4cb5-ce3b-c4f50379ab45"
      },
      "source": [
        "print(2)"
      ],
      "execution_count": null,
      "outputs": [
        {
          "output_type": "stream",
          "text": [
            "2\n"
          ],
          "name": "stdout"
        }
      ]
    },
    {
      "cell_type": "code",
      "metadata": {
        "id": "8VLZExZIG3Bs",
        "outputId": "f1c5c147-f4a0-416c-e3b6-c6d5201d9108"
      },
      "source": [
        "print(\"2\")"
      ],
      "execution_count": null,
      "outputs": [
        {
          "output_type": "stream",
          "text": [
            "2\n"
          ],
          "name": "stdout"
        }
      ]
    },
    {
      "cell_type": "markdown",
      "metadata": {
        "id": "ubOnbCULG3B5"
      },
      "source": [
        "INTEGERS IN PYTHON"
      ]
    },
    {
      "cell_type": "code",
      "metadata": {
        "id": "W895XoHYG3B8",
        "outputId": "5342334c-b13d-458a-f18d-6fc374c507bb"
      },
      "source": [
        "a = 11111111\n",
        "print(a)"
      ],
      "execution_count": null,
      "outputs": [
        {
          "output_type": "stream",
          "text": [
            "11111111\n"
          ],
          "name": "stdout"
        }
      ]
    },
    {
      "cell_type": "code",
      "metadata": {
        "id": "ug3UjuKwG3CU",
        "outputId": "65f1a838-e004-48c1-8f4a-bbf9ec1eb232"
      },
      "source": [
        "b = + 11111111\n",
        "print(b)"
      ],
      "execution_count": null,
      "outputs": [
        {
          "output_type": "stream",
          "text": [
            "11111111\n"
          ],
          "name": "stdout"
        }
      ]
    },
    {
      "cell_type": "code",
      "metadata": {
        "id": "ZAKANI1AG3Ck",
        "outputId": "e3e27b16-6d0c-4690-f1c6-fdd9472fed1f"
      },
      "source": [
        "c = -1111111\n",
        "print(c)"
      ],
      "execution_count": null,
      "outputs": [
        {
          "output_type": "stream",
          "text": [
            "-1111111\n"
          ],
          "name": "stdout"
        }
      ]
    },
    {
      "cell_type": "code",
      "metadata": {
        "id": "6wMIAzXhG3C0",
        "colab": {
          "base_uri": "https://localhost:8080/",
          "height": 35
        },
        "outputId": "090e6535-e35a-4ba7-e330-e3506d14cf5c"
      },
      "source": [
        "print(0o123)"
      ],
      "execution_count": null,
      "outputs": [
        {
          "output_type": "stream",
          "text": [
            "83\n"
          ],
          "name": "stdout"
        }
      ]
    },
    {
      "cell_type": "code",
      "metadata": {
        "id": "6CdWvMUnG3DB",
        "outputId": "2ffc116d-3cca-4c7d-be00-4a764eed887c"
      },
      "source": [
        "print(0x123)"
      ],
      "execution_count": null,
      "outputs": [
        {
          "output_type": "stream",
          "text": [
            "291\n"
          ],
          "name": "stdout"
        }
      ]
    },
    {
      "cell_type": "code",
      "metadata": {
        "id": "uWEsSmOFG3DL",
        "outputId": "cfff122a-a004-471c-8a37-dfd33890f023"
      },
      "source": [
        "print(44L) #Python 3 does not have a long integer, which Python2 had"
      ],
      "execution_count": null,
      "outputs": [
        {
          "output_type": "error",
          "ename": "SyntaxError",
          "evalue": "invalid syntax (<ipython-input-12-2086a9b7ea23>, line 1)",
          "traceback": [
            "\u001b[1;36m  File \u001b[1;32m\"<ipython-input-12-2086a9b7ea23>\"\u001b[1;36m, line \u001b[1;32m1\u001b[0m\n\u001b[1;33m    print(44L)\u001b[0m\n\u001b[1;37m            ^\u001b[0m\n\u001b[1;31mSyntaxError\u001b[0m\u001b[1;31m:\u001b[0m invalid syntax\n"
          ]
        }
      ]
    },
    {
      "cell_type": "markdown",
      "metadata": {
        "id": "p46roRmiG3Da"
      },
      "source": [
        "SCIENTIFIC NOTATION"
      ]
    },
    {
      "cell_type": "code",
      "metadata": {
        "id": "t3t4eJ29G3Dc",
        "colab": {
          "base_uri": "https://localhost:8080/",
          "height": 68
        },
        "outputId": "731d3466-4e7e-4be3-b271-e06b81eebdd5"
      },
      "source": [
        "print(8E9)\n",
        "print(3E-22)\n",
        "print(3E-3)"
      ],
      "execution_count": null,
      "outputs": [
        {
          "output_type": "stream",
          "text": [
            "8000000000.0\n",
            "3e-22\n",
            "0.003\n"
          ],
          "name": "stdout"
        }
      ]
    },
    {
      "cell_type": "markdown",
      "metadata": {
        "id": "lEYR0Tf9G3Ds"
      },
      "source": [
        "ESCAPE CHARECTER"
      ]
    },
    {
      "cell_type": "code",
      "metadata": {
        "id": "ycuDE7V-G3Dw",
        "colab": {
          "base_uri": "https://localhost:8080/",
          "height": 51
        },
        "outputId": "8caea528-6b4a-4db6-aec6-4c1d93fc3d6d"
      },
      "source": [
        "print(\"\\\"JAI HIND\\\"\")\n",
        "print(' \"JAI HIND\" ')"
      ],
      "execution_count": null,
      "outputs": [
        {
          "output_type": "stream",
          "text": [
            "\"JAI HIND\"\n",
            " \"JAI HIND\" \n"
          ],
          "name": "stdout"
        }
      ]
    },
    {
      "cell_type": "code",
      "metadata": {
        "id": "o71Vsu6IJzCG",
        "colab": {
          "base_uri": "https://localhost:8080/",
          "height": 128
        },
        "outputId": "303e7963-91a5-4d6f-922f-0d31fcaf5754"
      },
      "source": [
        "a = '2.3'\n",
        "print(type(a))\n",
        "print(id(a))\n",
        "\n",
        "a = 2\n",
        "print(type(a))\n",
        "print(id(a))\n",
        "\n",
        "a = 2.3\n",
        "print(type(a))\n",
        "print(id(a))"
      ],
      "execution_count": null,
      "outputs": [
        {
          "output_type": "stream",
          "text": [
            "<class 'str'>\n",
            "139744227057424\n",
            "<class 'int'>\n",
            "10914528\n",
            "<class 'float'>\n",
            "139744236562592\n"
          ],
          "name": "stdout"
        }
      ]
    },
    {
      "cell_type": "markdown",
      "metadata": {
        "id": "vkBcgLOgG3EA"
      },
      "source": [
        "# OPERATORS IN PYTHON"
      ]
    },
    {
      "cell_type": "code",
      "metadata": {
        "id": "o0Zh7pH-G3EC",
        "colab": {
          "base_uri": "https://localhost:8080/"
        },
        "outputId": "d8f371d4-3a09-4b66-a100-6cdd4d8037d0"
      },
      "source": [
        "2 + 3"
      ],
      "execution_count": null,
      "outputs": [
        {
          "output_type": "execute_result",
          "data": {
            "text/plain": [
              "5"
            ]
          },
          "metadata": {
            "tags": []
          },
          "execution_count": 8
        }
      ]
    },
    {
      "cell_type": "code",
      "metadata": {
        "id": "9clpwIbnG3EL",
        "colab": {
          "base_uri": "https://localhost:8080/"
        },
        "outputId": "4f2f05da-c525-40c1-beb0-1172c312b8ea"
      },
      "source": [
        "a = 7\n",
        "b = 2\n",
        "c = a / b\n",
        "c1 = a // b # Floor Division\n",
        "c2 = a % b   # Modulo\n",
        "print('a / b = ',c)\n",
        "print('a // b = ',c1)\n",
        "print('a % b = ',c2)"
      ],
      "execution_count": null,
      "outputs": [
        {
          "output_type": "stream",
          "text": [
            "a / b =  3.5\n",
            "a // b =  3\n",
            "a % b =  1\n"
          ],
          "name": "stdout"
        }
      ]
    },
    {
      "cell_type": "markdown",
      "metadata": {
        "id": "lBJYC8HYG3EY"
      },
      "source": [
        "EXPONETIAL OPERATOR"
      ]
    },
    {
      "cell_type": "code",
      "metadata": {
        "id": "5TeAcUjTG3Eb",
        "colab": {
          "base_uri": "https://localhost:8080/",
          "height": 104
        },
        "outputId": "beca2d37-a690-4899-eeac-1f6638fb7883"
      },
      "source": [
        "print(2 ** 3)  # C -> a^b, Pyhton -> a ** b\n",
        "print(2 ** 3.)\n",
        "print(2. ** 3)\n",
        "print(2. ** 3.)\n",
        "print(type(2 ** 3.))"
      ],
      "execution_count": null,
      "outputs": [
        {
          "output_type": "stream",
          "text": [
            "8\n",
            "8.0\n",
            "8.0\n",
            "8.0\n",
            "<class 'float'>\n"
          ],
          "name": "stdout"
        }
      ]
    },
    {
      "cell_type": "code",
      "metadata": {
        "id": "hsMOKgthagit",
        "colab": {
          "base_uri": "https://localhost:8080/",
          "height": 104
        },
        "outputId": "6dee2d8d-a56c-4cbd-f330-1a632787481d"
      },
      "source": [
        "print(2 + 3)\n",
        "print(2 + 3.0)\n",
        "print(2. + 3)\n",
        "print(2. + 3.)\n",
        "print(type(2 + 3.))"
      ],
      "execution_count": null,
      "outputs": [
        {
          "output_type": "stream",
          "text": [
            "5\n",
            "5.0\n",
            "5.0\n",
            "5.0\n",
            "<class 'float'>\n"
          ],
          "name": "stdout"
        }
      ]
    },
    {
      "cell_type": "markdown",
      "metadata": {
        "id": "LdaZZXQ6G3Ej"
      },
      "source": [
        "FLOOR DIVISION OPERATOR"
      ]
    },
    {
      "cell_type": "code",
      "metadata": {
        "id": "FJ2bbb8JG3El",
        "colab": {
          "base_uri": "https://localhost:8080/",
          "height": 121
        },
        "outputId": "e38e566f-fcac-4611-b19b-cbef25bd690f"
      },
      "source": [
        "print(6 // 4)\n",
        "print(6. // 4)\n",
        "print(6. // -4)\n",
        "print(6 // -4)\n",
        "print(7. % 4)\n",
        "print(-7. % 4)"
      ],
      "execution_count": null,
      "outputs": [
        {
          "output_type": "stream",
          "text": [
            "1\n",
            "1.0\n",
            "-2.0\n",
            "-2\n",
            "3.0\n",
            "1.0\n"
          ],
          "name": "stdout"
        }
      ]
    },
    {
      "cell_type": "markdown",
      "metadata": {
        "id": "2rmCXYRCG3Eu"
      },
      "source": [
        "REMINDER / MODULO OPERATOR"
      ]
    },
    {
      "cell_type": "code",
      "metadata": {
        "id": "1UjBrgPQG3Ex",
        "outputId": "58b23264-b875-4a91-8aa1-1ea4c7fcfebc"
      },
      "source": [
        "print(18 % 4)\n",
        "print(28 % 3.5)"
      ],
      "execution_count": null,
      "outputs": [
        {
          "output_type": "stream",
          "text": [
            "2\n",
            "0.0\n"
          ],
          "name": "stdout"
        }
      ]
    },
    {
      "cell_type": "markdown",
      "metadata": {
        "id": "rWa0Tmi3G3E6"
      },
      "source": [
        "# ASSIGNEMENT OPERATOR"
      ]
    },
    {
      "cell_type": "code",
      "metadata": {
        "id": "HZqcy6e-G3E_",
        "colab": {
          "base_uri": "https://localhost:8080/"
        },
        "outputId": "13385cf3-d4e7-44d5-d2d5-6b5d30a3d724"
      },
      "source": [
        "a = 5\n",
        "b = a\n",
        "print(\"a = b \\n=> b = \",b)"
      ],
      "execution_count": null,
      "outputs": [
        {
          "output_type": "stream",
          "text": [
            "a = b \n",
            "=> b =  5\n"
          ],
          "name": "stdout"
        }
      ]
    },
    {
      "cell_type": "code",
      "metadata": {
        "id": "gFtkuDnIG3FL",
        "outputId": "658aa389-a092-4696-f028-079195412657"
      },
      "source": [
        "a = 3\n",
        "a += 1 # a = a + 1\n",
        "print(a)"
      ],
      "execution_count": null,
      "outputs": [
        {
          "output_type": "stream",
          "text": [
            "4\n"
          ],
          "name": "stdout"
        }
      ]
    },
    {
      "cell_type": "code",
      "metadata": {
        "id": "fb0ZO7n9G3FU",
        "outputId": "dd1defb8-ba4d-48e3-8420-7f150844e0c2"
      },
      "source": [
        "a = 3\n",
        "a -= 1 # a = a - 1\n",
        "print(a)"
      ],
      "execution_count": null,
      "outputs": [
        {
          "output_type": "stream",
          "text": [
            "2\n"
          ],
          "name": "stdout"
        }
      ]
    },
    {
      "cell_type": "code",
      "metadata": {
        "id": "ZNqwIuozG3Fq",
        "outputId": "abe2341d-6a61-434a-cc32-e2c0f3b6538d"
      },
      "source": [
        "a = 3\n",
        "a *= 2 # a = a * 2\n",
        "print(a)"
      ],
      "execution_count": null,
      "outputs": [
        {
          "output_type": "stream",
          "text": [
            "6\n"
          ],
          "name": "stdout"
        }
      ]
    },
    {
      "cell_type": "code",
      "metadata": {
        "id": "ckTz_3BtG3F8",
        "colab": {
          "base_uri": "https://localhost:8080/",
          "height": 69
        },
        "outputId": "76036d53-7fe3-4921-9832-d0f0f850b1d5"
      },
      "source": [
        "a = 8\n",
        "a /= 2\n",
        "print(a)\n",
        "a %= 3\n",
        "print(a)\n",
        "a = 8\n",
        "a //= 3\n",
        "print(a)"
      ],
      "execution_count": null,
      "outputs": [
        {
          "output_type": "stream",
          "text": [
            "4.0\n",
            "1.0\n",
            "2\n"
          ],
          "name": "stdout"
        }
      ]
    },
    {
      "cell_type": "markdown",
      "metadata": {
        "id": "IuPrhxuaG3GR"
      },
      "source": [
        "# LOGICAL OPERATOR"
      ]
    },
    {
      "cell_type": "code",
      "metadata": {
        "id": "Wx1Mw2UIG3GV",
        "colab": {
          "base_uri": "https://localhost:8080/"
        },
        "outputId": "fd749d2c-28ef-41f9-9cb9-4e6387df1f2e"
      },
      "source": [
        "a = 0\n",
        "b = 2\n",
        "print(a and b)\n",
        "print(b and a)"
      ],
      "execution_count": null,
      "outputs": [
        {
          "output_type": "stream",
          "text": [
            "0\n",
            "0\n"
          ],
          "name": "stdout"
        }
      ]
    },
    {
      "cell_type": "code",
      "metadata": {
        "id": "TIWUhQ-QG3Gs",
        "colab": {
          "base_uri": "https://localhost:8080/",
          "height": 35
        },
        "outputId": "e67198f1-c3f3-44f4-dd60-d7e0ddd38a21"
      },
      "source": [
        "a = 0\n",
        "b = 1.0\n",
        "print(a or b)"
      ],
      "execution_count": null,
      "outputs": [
        {
          "output_type": "stream",
          "text": [
            "1.0\n"
          ],
          "name": "stdout"
        }
      ]
    },
    {
      "cell_type": "code",
      "metadata": {
        "id": "l9BSzJuFG3G_",
        "colab": {
          "base_uri": "https://localhost:8080/",
          "height": 51
        },
        "outputId": "870be030-c82f-4949-d644-842f13ee45f4"
      },
      "source": [
        "a = 0\n",
        "b = 1\n",
        "print(\"not of a : \", not(a))\n",
        "print(\"not of b : \", not(b))"
      ],
      "execution_count": null,
      "outputs": [
        {
          "output_type": "stream",
          "text": [
            "not of a :  True\n",
            "not of b :  False\n"
          ],
          "name": "stdout"
        }
      ]
    },
    {
      "cell_type": "code",
      "metadata": {
        "id": "vTb7RlQjnyDu",
        "colab": {
          "base_uri": "https://localhost:8080/"
        },
        "outputId": "3a5e37f0-b9ca-403d-9c40-d44442460078"
      },
      "source": [
        "a = True\n",
        "b = False\n",
        "print(a and not(b))\n",
        "print(b and a)\n",
        "print(a or not(b))\n",
        "print(b or a)"
      ],
      "execution_count": null,
      "outputs": [
        {
          "output_type": "stream",
          "text": [
            "True\n",
            "False\n",
            "True\n",
            "True\n"
          ],
          "name": "stdout"
        }
      ]
    },
    {
      "cell_type": "markdown",
      "metadata": {
        "id": "iPdnatWyG3HJ"
      },
      "source": [
        "# IDENTITY OPERATOR"
      ]
    },
    {
      "cell_type": "code",
      "metadata": {
        "id": "TMLd9jPWG3HL",
        "colab": {
          "base_uri": "https://localhost:8080/",
          "height": 69
        },
        "outputId": "638fe9eb-916b-4ec0-b361-8ca4e1195d78"
      },
      "source": [
        "a = \"Hi\"\n",
        "b = \"Helo\"\n",
        "c = \"Helo\"\n",
        "print('a is b: ', a is b) # a ==          b\n",
        "print('a is not b: ', a is not b) # a != b\n",
        "print('b is c ', b is c)"
      ],
      "execution_count": null,
      "outputs": [
        {
          "output_type": "stream",
          "text": [
            "a is b:  False\n",
            "a is not b:  True\n",
            "b is c  True\n"
          ],
          "name": "stdout"
        }
      ]
    },
    {
      "cell_type": "code",
      "metadata": {
        "id": "xpyWHuMUb2eO",
        "colab": {
          "base_uri": "https://localhost:8080/",
          "height": 35
        },
        "outputId": "b7ed3e1e-fbe4-4095-ab67-1c3d9a1c890d"
      },
      "source": [
        "a = \"Hello\"\n",
        "b = 2\n",
        "c = 2.0\n",
        "print(c is b)"
      ],
      "execution_count": null,
      "outputs": [
        {
          "output_type": "stream",
          "text": [
            "False\n"
          ],
          "name": "stdout"
        }
      ]
    },
    {
      "cell_type": "markdown",
      "metadata": {
        "id": "IUyRW5UKG3HX"
      },
      "source": [
        "\n",
        "\n",
        "\n",
        "\n",
        "\n",
        "\n",
        "\n",
        "\n",
        "\n",
        "\n",
        "\n",
        "\n",
        "\n",
        "\n",
        "\n",
        "\n",
        "\n",
        "\n",
        "\n",
        "\n",
        "\n",
        "\n",
        "\n",
        "\n",
        "\n",
        "\n",
        "\n",
        "\n",
        "\n",
        "\n",
        "\n",
        "\n",
        "\n",
        "\n",
        "\n",
        "\n",
        "\n",
        "\n",
        "\n",
        "\n",
        "\n",
        "\n",
        "\n",
        "\n",
        "\n",
        "\n",
        "\n",
        "\n",
        "\n",
        "\n",
        "\n",
        "\n",
        "\n",
        "\n",
        "\n",
        "\n",
        "\n",
        "\n",
        "\n",
        "\n",
        "\n",
        "\n",
        "\n",
        "\n",
        "\n",
        "\n",
        "\n",
        "\n",
        "\n",
        "\n",
        "\n",
        "\n",
        "\n",
        "\n",
        "\n",
        "\n",
        "\n",
        "\n",
        "\n",
        "\n",
        "\n",
        "\n",
        "\n",
        "\n",
        "\n",
        "\n",
        "\n",
        "\n",
        "\n",
        "\n",
        "\n",
        "\n",
        "\n",
        "\n",
        "\n",
        "\n",
        "\n",
        "\n",
        "\n",
        "\n",
        "\n",
        "\n",
        "\n",
        "\n",
        "\n",
        "\n",
        "\n",
        "\n",
        "\n",
        "\n",
        "\n",
        "\n",
        "\n",
        "\n",
        "\n",
        "\n",
        "\n",
        "\n",
        "\n",
        "\n",
        "\n",
        "\n",
        "\n",
        "\n",
        "\n",
        "\n",
        "\n",
        "\n",
        "\n",
        "\n",
        "\n",
        "\n",
        "\n",
        "# VARIABLES IN PYTHON"
      ]
    },
    {
      "cell_type": "code",
      "metadata": {
        "id": "Lo3A_e89G3HZ"
      },
      "source": [
        ""
      ],
      "execution_count": null,
      "outputs": []
    },
    {
      "cell_type": "markdown",
      "metadata": {
        "id": "wqPrgggEG3Hj"
      },
      "source": [
        "# THE input() FUNCTION"
      ]
    },
    {
      "cell_type": "code",
      "metadata": {
        "id": "fOCkn-5qG3Hu",
        "colab": {
          "base_uri": "https://localhost:8080/",
          "height": 85
        },
        "outputId": "08465db3-4316-484d-a668-626cdea6c030"
      },
      "source": [
        "print(\"Tell Me Anything\")\n",
        "anything = input()\n",
        "print(\"Hi\", \"How\", \"R\", \"U\")\n",
        "print('anything = ',anything)"
      ],
      "execution_count": null,
      "outputs": [
        {
          "output_type": "stream",
          "text": [
            "Tell Me Anything\n",
            "123456\n",
            "Hi How R U\n",
            "anything =  123456\n"
          ],
          "name": "stdout"
        }
      ]
    },
    {
      "cell_type": "code",
      "metadata": {
        "id": "q2wSYO3dqRbG"
      },
      "source": [
        ""
      ],
      "execution_count": null,
      "outputs": []
    },
    {
      "cell_type": "code",
      "metadata": {
        "id": "tznEVZ0frhXN",
        "colab": {
          "base_uri": "https://localhost:8080/",
          "height": 68
        },
        "outputId": "615a39f6-8e3e-4725-9dd3-d913c0e7d9b5"
      },
      "source": [
        "a = input('Enter a  ::: ')\n",
        "#print('type of a  = ', type(a))\n",
        "b = input('Enter b :::')\n",
        "c = a+b\n",
        "print('c = ',c)"
      ],
      "execution_count": null,
      "outputs": [
        {
          "output_type": "stream",
          "text": [
            "Enter a  ::: 4\n",
            "Enter b :::1\n",
            "c =  41\n"
          ],
          "name": "stdout"
        }
      ]
    },
    {
      "cell_type": "code",
      "metadata": {
        "id": "PfO728PjvfG3",
        "colab": {
          "base_uri": "https://localhost:8080/",
          "height": 84
        },
        "outputId": "c0f1d0d1-8f70-44b8-db78-87b675259b91"
      },
      "source": [
        "a = int(input('Enter a  ::: '))\n",
        "print('type of a  = ', type(a))\n",
        "b = int(input('Enter b :::'))\n",
        "c = a + b\n",
        "print('c = ', c)"
      ],
      "execution_count": null,
      "outputs": [
        {
          "output_type": "stream",
          "text": [
            "Enter a  ::: 12\n",
            "type of a  =  <class 'int'>\n",
            "Enter b :::34\n",
            "c =  46\n"
          ],
          "name": "stdout"
        }
      ]
    },
    {
      "cell_type": "markdown",
      "metadata": {
        "id": "9BrWDhnSG3H4"
      },
      "source": [
        "STRING CONCATENATION"
      ]
    },
    {
      "cell_type": "code",
      "metadata": {
        "scrolled": true,
        "id": "QgwR27IYG3H5",
        "colab": {
          "base_uri": "https://localhost:8080/",
          "height": 84
        },
        "outputId": "5661c959-dce0-4086-9ff1-05e1ca1a9714"
      },
      "source": [
        "print(\"Enter your name please\")\n",
        "fname = input(\"Enter your first name::\")\n",
        "lname = input(\"Enter your last name:::\")\n",
        "print(\"The Name of you have entered is  :: \"+ fname+\" \"+ lname)"
      ],
      "execution_count": null,
      "outputs": [
        {
          "output_type": "stream",
          "text": [
            "Enter your name please\n",
            "Enter your first name::Jhalak\n",
            "Enter your last name:::hota\n",
            "The Name of you have entered is  :: Jhalak hota\n"
          ],
          "name": "stdout"
        }
      ]
    },
    {
      "cell_type": "code",
      "metadata": {
        "id": "3tKlSOWQG3IE",
        "outputId": "8d2f9250-6d4b-4de2-a7fa-32ec74b02e2b"
      },
      "source": [
        "age = input(\"Enter your Age\")\n",
        "hobby = input(\"Enter your hobby\")\n",
        "print(\"Hello, I am \" + fname + \" \"+ lname +\" \"+ \"aged about \"+ age + \" years and interested in \" + hobby)"
      ],
      "execution_count": null,
      "outputs": [
        {
          "output_type": "stream",
          "text": [
            "Enter your Age34\n",
            "Enter your hobbyteaching\n",
            "Hello, I am Jhalak Hota aged about 34 years and interested in teaching\n"
          ],
          "name": "stdout"
        }
      ]
    },
    {
      "cell_type": "code",
      "metadata": {
        "colab": {
          "base_uri": "https://localhost:8080/"
        },
        "id": "Gj5O1v1FABLV",
        "outputId": "2d80ef8e-7e3e-41bf-98cb-c7a845d680fd"
      },
      "source": [
        "s = \"abc\"\n",
        "print(s * 3)"
      ],
      "execution_count": null,
      "outputs": [
        {
          "output_type": "stream",
          "text": [
            "abcabcabc\n"
          ],
          "name": "stdout"
        }
      ]
    },
    {
      "cell_type": "code",
      "metadata": {
        "id": "lyJ8lsmDG3IV",
        "outputId": "abf9dfda-086b-46ae-8ed0-e64c1515df60"
      },
      "source": [
        "a = input(\"Enter a:: \")\n",
        "b = input(\"Enter b:: \")\n",
        "c = a+b\n",
        "print('C = ', c)"
      ],
      "execution_count": null,
      "outputs": [
        {
          "output_type": "stream",
          "text": [
            "Enter a:: 2\n",
            "Enter b:: 3\n",
            "C =  23\n"
          ],
          "name": "stdout"
        }
      ]
    },
    {
      "cell_type": "markdown",
      "metadata": {
        "id": "DPPZoUsPTr8E"
      },
      "source": [
        ""
      ]
    },
    {
      "cell_type": "markdown",
      "metadata": {
        "id": "XiEtXtz0G3Im"
      },
      "source": [
        "# VARAIBLES IN PYTHON"
      ]
    },
    {
      "cell_type": "markdown",
      "metadata": {
        "id": "OHHQ88rfVhFc"
      },
      "source": [
        "We can find the memory address that a variable references, by using the id() function.\n",
        "\n",
        "The id() function returns the memory address of its argument as a base-10 integer.\n",
        "\n",
        "We can use the function hex() to convert the base-10 number to base-16."
      ]
    },
    {
      "cell_type": "code",
      "metadata": {
        "id": "1NYefhRBUirQ",
        "colab": {
          "base_uri": "https://localhost:8080/"
        },
        "outputId": "071a2d14-49af-40b1-cfa9-c84b886b1a9d"
      },
      "source": [
        "my_var = 10\n",
        "print('my_var = {0}'.format(my_var))\n",
        "print('memory address of my_var (decimal): {0}'.format(id(my_var)))\n",
        "print('memory address of my_var (hex): {0}'.format(hex(id(my_var))))"
      ],
      "execution_count": null,
      "outputs": [
        {
          "output_type": "stream",
          "text": [
            "my_var = 10\n",
            "memory address of my_var (decimal): 10914784\n",
            "memory address of my_var (hex): 0xa68be0\n"
          ],
          "name": "stdout"
        }
      ]
    },
    {
      "cell_type": "code",
      "metadata": {
        "id": "1uQer1VoY-X8",
        "colab": {
          "base_uri": "https://localhost:8080/"
        },
        "outputId": "2d0d7243-e6da-47dd-ba27-504a3dde0f42"
      },
      "source": [
        "my_var_a = 23\n",
        "print('a = ', my_var_a)\n",
        "print(f'a = {my_var_a}')\n",
        "print('a = ', my_var_a)\n",
        "print(f'memory address of a is {id(my_var_a)}')\n",
        "print(f'memory address of a is {hex(id(my_var_a))}')\n",
        "\n",
        "my_var_a = 34.8\n",
        "print('Id of a is ', id(my_var_a))"
      ],
      "execution_count": null,
      "outputs": [
        {
          "output_type": "stream",
          "text": [
            "a =  23\n",
            "a = 23\n",
            "a =  23\n",
            "memory address of a is 10915200\n",
            "memory address of a is 0xa68d80\n",
            "Id of a is  140465198085632\n"
          ],
          "name": "stdout"
        }
      ]
    },
    {
      "cell_type": "markdown",
      "metadata": {
        "id": "eu3WpinHaXT3"
      },
      "source": [
        "# Reference Counting\n",
        "\n",
        "Method that returns the reference count for a given variable's memory address:\n",
        "There are two methods."
      ]
    },
    {
      "cell_type": "markdown",
      "metadata": {
        "id": "2uqTtHzFdaNY"
      },
      "source": [
        "Method 1: sys.getrefcount()"
      ]
    },
    {
      "cell_type": "code",
      "metadata": {
        "id": "hiv7S3IPabLD",
        "colab": {
          "base_uri": "https://localhost:8080/",
          "height": 34
        },
        "outputId": "35904d51-1293-4588-fb08-c3eedfcee9b8"
      },
      "source": [
        "import sys\n",
        "my_array = [1,2,3,4]\n",
        "print(f'The number of times a is referenced is {sys.getrefcount(my_array)}')"
      ],
      "execution_count": null,
      "outputs": [
        {
          "output_type": "stream",
          "text": [
            "The number of times a is referenced is 2\n"
          ],
          "name": "stdout"
        }
      ]
    },
    {
      "cell_type": "markdown",
      "metadata": {
        "id": "rtcqPuC2lQYk"
      },
      "source": [
        "The answer is 2, but why??\n",
        "_________________________\n",
        "\n",
        "The reason is sys.getrefcoount() is a function and also creates a copy of the variable it self, hence it returns 2.\n",
        "\n"
      ]
    },
    {
      "cell_type": "markdown",
      "metadata": {
        "id": "QeNbs_crsAMl"
      },
      "source": [
        "Method 2:\n",
        "__________________________\n",
        "ctypes.c_long.from_address(address).value"
      ]
    },
    {
      "cell_type": "code",
      "metadata": {
        "id": "wu5KdaNNsPwE",
        "colab": {
          "base_uri": "https://localhost:8080/",
          "height": 183
        },
        "outputId": "50a532bf-0fec-4ab2-84b1-2cacd605ba7a"
      },
      "source": [
        "import ctypes\n",
        "print(ctypes.c_long.from_address(my_array).value)"
      ],
      "execution_count": null,
      "outputs": [
        {
          "output_type": "error",
          "ename": "TypeError",
          "evalue": "ignored",
          "traceback": [
            "\u001b[0;31m---------------------------------------------------------------------------\u001b[0m",
            "\u001b[0;31mTypeError\u001b[0m                                 Traceback (most recent call last)",
            "\u001b[0;32m<ipython-input-3-769f49356bfd>\u001b[0m in \u001b[0;36m<module>\u001b[0;34m()\u001b[0m\n\u001b[1;32m      1\u001b[0m \u001b[0;32mimport\u001b[0m \u001b[0mctypes\u001b[0m\u001b[0;34m\u001b[0m\u001b[0;34m\u001b[0m\u001b[0m\n\u001b[0;32m----> 2\u001b[0;31m \u001b[0mprint\u001b[0m\u001b[0;34m(\u001b[0m\u001b[0mctypes\u001b[0m\u001b[0;34m.\u001b[0m\u001b[0mc_long\u001b[0m\u001b[0;34m.\u001b[0m\u001b[0mfrom_address\u001b[0m\u001b[0;34m(\u001b[0m\u001b[0mmy_array\u001b[0m\u001b[0;34m)\u001b[0m\u001b[0;34m.\u001b[0m\u001b[0mvalue\u001b[0m\u001b[0;34m)\u001b[0m\u001b[0;34m\u001b[0m\u001b[0;34m\u001b[0m\u001b[0m\n\u001b[0m",
            "\u001b[0;31mTypeError\u001b[0m: integer expected"
          ]
        }
      ]
    },
    {
      "cell_type": "markdown",
      "metadata": {
        "id": "rdvzCVynG3Io"
      },
      "source": [
        "sys.getsizeof(object[, default])\n",
        "-------------------------------------\n",
        "Return the size of an object in bytes. The object can be any type of object. All built-in objects will return correct results, but this does not have to hold true for third-party extensions as it is implementation specific.\n",
        "\n",
        "Only the memory consumption directly attributed to the object is accounted for, not the memory consumption of objects it refers to.\n",
        "\n",
        "If given, default will be returned if the object does not provide means to retrieve the size. Otherwise a TypeError will be raised.\n",
        "\n",
        "getsizeof() calls the object’s __sizeof__ method and adds an additional garbage collector overhead if the object is managed by the garbage collector."
      ]
    },
    {
      "cell_type": "code",
      "metadata": {
        "id": "RSpwMWeAG3Ir"
      },
      "source": [
        "import sys"
      ],
      "execution_count": null,
      "outputs": []
    },
    {
      "cell_type": "code",
      "metadata": {
        "id": "3drBpQEOG3Ix",
        "colab": {
          "base_uri": "https://localhost:8080/"
        },
        "outputId": "c5451767-cc0c-44cf-d968-8b66e5ceac47"
      },
      "source": [
        "x = 34\n",
        "print(sys.getsizeof(x))\n",
        "x = 23.8\n",
        "print(sys.getsizeof(x))\n",
        "x = 'B'\n",
        "print(sys.getsizeof(x))\n",
        "x = 'Bhubaneswar'\n",
        "print(sys.getsizeof(x))"
      ],
      "execution_count": null,
      "outputs": [
        {
          "output_type": "stream",
          "text": [
            "28\n",
            "24\n",
            "50\n",
            "60\n"
          ],
          "name": "stdout"
        }
      ]
    },
    {
      "cell_type": "code",
      "metadata": {
        "id": "KuNG6TJne0nH",
        "colab": {
          "base_uri": "https://localhost:8080/",
          "height": 1000
        },
        "outputId": "7996f177-2e67-41d7-f864-8b54bbed7dd2"
      },
      "source": [
        "x = 23\n",
        "dir(x)"
      ],
      "execution_count": null,
      "outputs": [
        {
          "output_type": "execute_result",
          "data": {
            "text/plain": [
              "['__abs__',\n",
              " '__add__',\n",
              " '__and__',\n",
              " '__bool__',\n",
              " '__ceil__',\n",
              " '__class__',\n",
              " '__delattr__',\n",
              " '__dir__',\n",
              " '__divmod__',\n",
              " '__doc__',\n",
              " '__eq__',\n",
              " '__float__',\n",
              " '__floor__',\n",
              " '__floordiv__',\n",
              " '__format__',\n",
              " '__ge__',\n",
              " '__getattribute__',\n",
              " '__getnewargs__',\n",
              " '__gt__',\n",
              " '__hash__',\n",
              " '__index__',\n",
              " '__init__',\n",
              " '__init_subclass__',\n",
              " '__int__',\n",
              " '__invert__',\n",
              " '__le__',\n",
              " '__lshift__',\n",
              " '__lt__',\n",
              " '__mod__',\n",
              " '__mul__',\n",
              " '__ne__',\n",
              " '__neg__',\n",
              " '__new__',\n",
              " '__or__',\n",
              " '__pos__',\n",
              " '__pow__',\n",
              " '__radd__',\n",
              " '__rand__',\n",
              " '__rdivmod__',\n",
              " '__reduce__',\n",
              " '__reduce_ex__',\n",
              " '__repr__',\n",
              " '__rfloordiv__',\n",
              " '__rlshift__',\n",
              " '__rmod__',\n",
              " '__rmul__',\n",
              " '__ror__',\n",
              " '__round__',\n",
              " '__rpow__',\n",
              " '__rrshift__',\n",
              " '__rshift__',\n",
              " '__rsub__',\n",
              " '__rtruediv__',\n",
              " '__rxor__',\n",
              " '__setattr__',\n",
              " '__sizeof__',\n",
              " '__str__',\n",
              " '__sub__',\n",
              " '__subclasshook__',\n",
              " '__truediv__',\n",
              " '__trunc__',\n",
              " '__xor__',\n",
              " 'bit_length',\n",
              " 'conjugate',\n",
              " 'denominator',\n",
              " 'from_bytes',\n",
              " 'imag',\n",
              " 'numerator',\n",
              " 'real',\n",
              " 'to_bytes']"
            ]
          },
          "metadata": {
            "tags": []
          },
          "execution_count": 28
        }
      ]
    },
    {
      "cell_type": "code",
      "metadata": {
        "id": "0SprnZpeG3JD",
        "colab": {
          "base_uri": "https://localhost:8080/",
          "height": 35
        },
        "outputId": "b9dd13b7-02e4-4b8b-8df0-13cdad11a4f5"
      },
      "source": [
        "x = 32.0\n",
        "print(sys.getsizeof(x))"
      ],
      "execution_count": null,
      "outputs": [
        {
          "output_type": "stream",
          "text": [
            "24\n"
          ],
          "name": "stdout"
        }
      ]
    },
    {
      "cell_type": "code",
      "metadata": {
        "id": "s7caRdJWG3JK",
        "outputId": "9383ea24-f051-499e-dad0-6cba1e7208de"
      },
      "source": [
        "x = 'cat'\n",
        "y = 'Billi'\n",
        "print(sys.getsizeof(x))\n",
        "print(sys.getsizeof(y))"
      ],
      "execution_count": null,
      "outputs": [
        {
          "output_type": "stream",
          "text": [
            "52\n",
            "54\n"
          ],
          "name": "stdout"
        }
      ]
    },
    {
      "cell_type": "code",
      "metadata": {
        "id": "IIctcFyIG3JS"
      },
      "source": [
        ""
      ],
      "execution_count": null,
      "outputs": []
    },
    {
      "cell_type": "markdown",
      "metadata": {
        "id": "fpuMW3X7VNJi"
      },
      "source": [
        "# GARBAGE COLLECTION\n",
        "--------------------------------------------\n",
        "Method to handell Circular Reference\n"
      ]
    },
    {
      "cell_type": "code",
      "metadata": {
        "id": "BbYnO4j2yMqn"
      },
      "source": [
        ""
      ],
      "execution_count": null,
      "outputs": []
    },
    {
      "cell_type": "markdown",
      "metadata": {
        "id": "vtr5bKgsyRXp"
      },
      "source": [
        "# STATIC TYPING vs DYNAMIC  TYPING\n",
        "------------------------------------------------------\n",
        "\n",
        "In python the variable name is just a reference to the memory location. This facilitates the Dynamic Typing, which is not the case in case of Static Typed Language like Java or C. \n",
        "\n",
        "So when we re- assigns a variable name to a value of different type, we just change the referece that the name points to , rather than allocating the memory. \n",
        "\n",
        "\n",
        "type() Function\n",
        "---------------------------\n",
        "type() : return the name of the class of the object that a variable name is pointing to"
      ]
    },
    {
      "cell_type": "code",
      "metadata": {
        "id": "SKhdslkuifq2",
        "colab": {
          "base_uri": "https://localhost:8080/",
          "height": 101
        },
        "outputId": "f4c1e1bb-1662-4dcf-808f-a55c3557c886"
      },
      "source": [
        "p = 23\n",
        "print('p = ',p ,'\\t', type(p), hex(id(p)))\n",
        "p = 12\n",
        "print('p = ',p ,'\\t', type(p), hex(id(p)))\n",
        "p = 34.7\n",
        "print('p = ',p ,'\\t', type(p), hex(id(p)))\n",
        "\n",
        "p = 'B'\n",
        "print('p = ',p ,'\\t', type(p), hex(id(p)))\n",
        "\n",
        "p = 'Bhubaneswar'\n",
        "print('p = ',p ,'\\t', type(p), hex(id(p)))"
      ],
      "execution_count": null,
      "outputs": [
        {
          "output_type": "stream",
          "text": [
            "p =  23 \t <class 'int'> 0xa761a0\n",
            "p =  12 \t <class 'int'> 0xa76040\n",
            "p =  34.7 \t <class 'float'> 0x7efe6f409f78\n",
            "p =  B \t <class 'str'> 0x7efe90265f10\n",
            "p =  Bhubaneswar \t <class 'str'> 0x7efe6f2adeb0\n"
          ],
          "name": "stdout"
        }
      ]
    }
  ]
}