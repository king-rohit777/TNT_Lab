{
 "cells": [
  {
   "cell_type": "markdown",
   "metadata": {},
   "source": [
    "### **Q1.** Write a program to find distance between two points having A and B has two coordinates each. "
   ]
  },
  {
   "cell_type": "code",
   "execution_count": 5,
   "metadata": {},
   "outputs": [
    {
     "name": "stdout",
     "output_type": "stream",
     "text": [
      "1.0\n"
     ]
    }
   ],
   "source": [
    "def distance(x1, y1, x2, y2):\n",
    "    return ((x2 - x1) ** 2 + (y2 - y1) ** 2) ** 0.5\n",
    "\n",
    "input_x1 = int(input(\"Enter x1: \"))\n",
    "input_y1 = int(input(\"Enter y1: \"))\n",
    "input_x2 = int(input(\"Enter x2: \"))\n",
    "input_y2 = int(input(\"Enter y2: \"))\n",
    "\n",
    "print(distance(input_x1, input_y1, input_x2, input_y2))\n"
   ]
  },
  {
   "cell_type": "markdown",
   "metadata": {},
   "source": [
    "### **Q2.** Find the area of the rectangle having points at <0,0>, <0,6>, <8.0>, <8,6>. by finding the distance between the points."
   ]
  },
  {
   "cell_type": "code",
   "execution_count": 6,
   "metadata": {},
   "outputs": [
    {
     "name": "stdout",
     "output_type": "stream",
     "text": [
      "48.0\n"
     ]
    }
   ],
   "source": [
    "area = distance(0, 0, 0, 6) * distance(0, 6, 8, 6)\n",
    "print(area)\n",
    "\n"
   ]
  },
  {
   "cell_type": "markdown",
   "metadata": {},
   "source": [
    "### **Q3.** Suppose an amount of 15 lakhs has been taken as a loan for House Building purpose. Find the Monthly installment if the loan has to be repaid in 120 months if the rate of interest is 5.6% which is compounded annually ."
   ]
  },
  {
   "cell_type": "code",
   "execution_count": 7,
   "metadata": {},
   "outputs": [
    {
     "name": "stdout",
     "output_type": "stream",
     "text": [
      "84121.68520569493\n"
     ]
    }
   ],
   "source": [
    "def monthly_installment(loan, rate, months):\n",
    "    return loan * (rate / (1 - (1 + rate) ** -months))\n",
    "\n",
    "print(monthly_installment(1500000, 0.056, 120))\n"
   ]
  },
  {
   "cell_type": "markdown",
   "metadata": {},
   "source": [
    "### **Q4.** Find the length of the square with maximum are that can be inscribed with a circle of radius 23 cm,"
   ]
  },
  {
   "cell_type": "code",
   "execution_count": 15,
   "metadata": {},
   "outputs": [
    {
     "name": "stdout",
     "output_type": "stream",
     "text": [
      "The length of the square is:  32.526911934581186\n"
     ]
    }
   ],
   "source": [
    "\n",
    "#rad=float(input(\"Enter the radius= \"))\n",
    "rad = 23\n",
    "side=(2**0.5)*(rad)\n",
    "print(\"The length of the square is: \",side)\n"
   ]
  }
 ],
 "metadata": {
  "interpreter": {
   "hash": "ac59ebe37160ed0dfa835113d9b8498d9f09ceb179beaac4002f036b9467c963"
  },
  "kernelspec": {
   "display_name": "Python 3.9.6 64-bit",
   "language": "python",
   "name": "python3"
  },
  "language_info": {
   "codemirror_mode": {
    "name": "ipython",
    "version": 3
   },
   "file_extension": ".py",
   "mimetype": "text/x-python",
   "name": "python",
   "nbconvert_exporter": "python",
   "pygments_lexer": "ipython3",
   "version": "3.9.6"
  },
  "orig_nbformat": 4
 },
 "nbformat": 4,
 "nbformat_minor": 2
}
