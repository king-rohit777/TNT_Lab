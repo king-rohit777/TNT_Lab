{
 "cells": [
  {
   "cell_type": "code",
   "execution_count": 20,
   "metadata": {},
   "outputs": [
    {
     "name": "stdout",
     "output_type": "stream",
     "text": [
      "enter two numbers\n",
      "sum of  5 & 3 is 8\n",
      "multiplication of  5 & 3 is 15\n",
      "substract of  5 & 3 is 2\n",
      "floordivision of  5 & 3 is 1\n",
      "exponentiation of  5 & 3 is 125\n"
     ]
    }
   ],
   "source": [
    "print(\"enter two numbers\")\n",
    "a=input()\n",
    "b=input()\n",
    "sum=int(a)+int(b)\n",
    "multiply=int(a)*int(b)\n",
    "substract=int(a)-int(b)\n",
    "floordivision=int(a)//int(b)\n",
    "exponentiation=int(a)**int(b)\n",
    "print(\"sum of \" , a,\"&\",b,\"is\",sum)\n",
    "print(\"multiplication of \" , a,\"&\",b,\"is\",multiply)\n",
    "print(\"substract of \" , a,\"&\",b,\"is\",substract)\n",
    "print(\"floordivision of \" , a,\"&\",b,\"is\",floordivision)\n",
    "print(\"exponentiation of \" , a,\"&\",b,\"is\",exponentiation)"
   ]
  },
  {
   "cell_type": "code",
   "execution_count": 22,
   "metadata": {},
   "outputs": [
    {
     "name": "stdout",
     "output_type": "stream",
     "text": [
      "Name : Rohit Jaiswal\n",
      "Date Of Birth : 7th jan\n",
      "Place Of Birth : JSR\n",
      "Language : English\n",
      "Enter Roll preferred : SDE\n",
      "Qualification : Btech\n",
      "Experience : Beginner\n",
      "Skills : C++ , java , Python\n",
      "Hobbies : Playing Games\n",
      "Address : JSR , Jharkhand - 831005\n",
      "Contact : 8804337821\n"
     ]
    }
   ],
   "source": [
    "## Print your Biodata using python\n",
    "name=input(\"enter your name\")\n",
    "dob=input(\"enter your DOB\")\n",
    "pob=input(\"enter your place of birth\")\n",
    "language=input(\"enter your Language\")\n",
    "rollpreff=input(\"enter your Role preferred\")\n",
    "qualification=input(\"enter your Qualification\")\n",
    "experience=input(\"enter your Experience\")\n",
    "skills=input(\"enter your Skills\")\n",
    "hobbies=input(\"enter your Hobbies\")\n",
    "address=input(\"enter your Address\")\n",
    "contact=input(\"enter your Contact\")\n",
    "print(\"Name :\",name)\n",
    "print(\"Date Of Birth :\",dob)\n",
    "print(\"Place Of Birth :\",pob)\n",
    "print(\"Language :\",language)\n",
    "print(\"Enter Roll preferred :\",rollpreff)\n",
    "print(\"Qualification :\",qualification)\n",
    "print(\"Experience :\",experience)\n",
    "print(\"Skills :\",skills)\n",
    "print(\"Hobbies :\",hobbies)\n",
    "print(\"Address :\",address)\n",
    "print(\"Contact :\",contact)"
   ]
  },
  {
   "cell_type": "code",
   "execution_count": 23,
   "metadata": {},
   "outputs": [
    {
     "name": "stdout",
     "output_type": "stream",
     "text": [
      "xxxxxx\n",
      " xxxxx\n",
      "xxxxxx\n",
      "  xxxxx\n",
      "******\n",
      "  ****"
     ]
    }
   ],
   "source": [
    "## End attributes\n",
    "print(\"xxxxxx\", end=\"\\n xxxxx\")\n",
    "print(\"\\nxxxxxx\", end=\"\\n  xxxxx\")\n",
    "print(\"\\n******\", end=\"\\n  ****\")"
   ]
  },
  {
   "cell_type": "code",
   "execution_count": 24,
   "metadata": {},
   "outputs": [
    {
     "name": "stdout",
     "output_type": "stream",
     "text": [
      "xxxxxx\n",
      " xxxxx\n",
      "xxxxxx\n",
      "  xxxxx\n",
      "******\n",
      "  ****\n"
     ]
    }
   ],
   "source": [
    "## Using Sep attribute\n",
    "print(\"xxxxxx\",\"xxxxx\",sep='\\n ',end=\"\\n\")\n",
    "print(\"xxxxxx\",\"xxxxx\",sep='\\n  ',end=\"\\n\")\n",
    "print(\"******\",\"****\",sep='\\n  ',end=\"\\n\")\n"
   ]
  }
 ],
 "metadata": {
  "interpreter": {
   "hash": "ac59ebe37160ed0dfa835113d9b8498d9f09ceb179beaac4002f036b9467c963"
  },
  "kernelspec": {
   "display_name": "Python 3.9.6 64-bit",
   "language": "python",
   "name": "python3"
  },
  "language_info": {
   "codemirror_mode": {
    "name": "ipython",
    "version": 3
   },
   "file_extension": ".py",
   "mimetype": "text/x-python",
   "name": "python",
   "nbconvert_exporter": "python",
   "pygments_lexer": "ipython3",
   "version": "3.9.6"
  },
  "orig_nbformat": 4
 },
 "nbformat": 4,
 "nbformat_minor": 2
}
