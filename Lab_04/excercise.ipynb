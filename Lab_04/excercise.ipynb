{
 "cells": [
  {
   "cell_type": "markdown",
   "metadata": {},
   "source": [
    "### Q2\n",
    "### Program to check whether a triangle is possible or not. User will input the 3 sides"
   ]
  },
  {
   "cell_type": "code",
   "execution_count": 2,
   "metadata": {},
   "outputs": [
    {
     "name": "stdout",
     "output_type": "stream",
     "text": [
      "The triangle is possible\n"
     ]
    }
   ],
   "source": [
    "a = int(input(\"Enter the length of side a: \"))\n",
    "b = int(input(\"Enter the length of side b: \"))\n",
    "c = int(input(\"Enter the length of side c: \"))\n",
    "\n",
    "if a + b > c and a + c > b and b + c > a:\n",
    "    print(\"The triangle is possible\")\n",
    "else:\n",
    "    print(\"The triangle is not possible\")"
   ]
  },
  {
   "cell_type": "markdown",
   "metadata": {},
   "source": [
    "### Q3\n",
    "### Enter three sides of triangle as user input . Find out which one is Right Angle, Acute or Obtuse .\n"
   ]
  },
  {
   "cell_type": "code",
   "execution_count": 17,
   "metadata": {},
   "outputs": [
    {
     "name": "stdout",
     "output_type": "stream",
     "text": [
      "The traingle is acute angle\n"
     ]
    }
   ],
   "source": [
    "a = int(input(\"Enter the length of side a:\"))\n",
    "b = int(input(\"Enter the length of side b:\"))\n",
    "c = int(input(\"Enter the length of side c:\"))\n",
    "if c**2 == (a**2 + b**2):\n",
    " print(\"The triangle is right angle\")\n",
    "elif c**2 < (a**2 + b**2):\n",
    " print(\"The traingle is acute angle\")\n",
    "else: \n",
    "   print(\"The traingle is obtuse angle\")"
   ]
  },
  {
   "cell_type": "markdown",
   "metadata": {},
   "source": [
    "### Q7\n",
    "### Program to check whether the year is a leap year or not"
   ]
  },
  {
   "cell_type": "code",
   "execution_count": 1,
   "metadata": {},
   "outputs": [
    {
     "name": "stdout",
     "output_type": "stream",
     "text": [
      "2000 is a leap year\n"
     ]
    }
   ],
   "source": [
    "year = int(input(\"Enter the year: \"))\n",
    "if (year % 4) == 0:\n",
    "    if (year % 100) == 0:\n",
    "         if (year % 400) == 0:\n",
    "              print(\"{0} is a leap year\".format(year))\n",
    "         else:\n",
    "              print(\"{0} is not a leap year\".format(year))\n",
    "    else:\n",
    "         print(\"{0} is a leap year\".format(year))\n",
    "else:\n",
    "     print(\"{0} is not a leap year\".format(year))\n"
   ]
  },
  {
   "cell_type": "markdown",
   "metadata": {},
   "source": [
    "### Q1 \n",
    "### A Company give the following increment skim.\n",
    "### If year of service is less than 5 year Bonus given is 5%,  year of service is  in between 5 to 10year 10% Bonus is given,  year of service is  more than 10 17% bonus is given.\n",
    "### D.A is allotted every one to 11% \n",
    "### Performance Allowance is : for Rating A 15%, Rating B 8 % , Rating C 4%\n",
    "### Calculate the salary of the following Employee:\n"
   ]
  },
  {
   "cell_type": "code",
   "execution_count": 24,
   "metadata": {},
   "outputs": [
    {
     "name": "stdout",
     "output_type": "stream",
     "text": [
      "Sl.No. \t\t\t Name \t\t\t Bonus \t\t\t DA \t\t\t Performance Allowance \t\t\t Net Salary \n",
      "\n",
      "1 \t\t\t RAMESH \t\t\t 1795.2 \t\t\t 1161.6 \t\t\t 844.8 \t\t\t 14361.6 \t\t\t\n",
      "2 \t\t\t SURESH \t\t\t 1760.0 \t\t\t 1936.0 \t\t\t 0 \t\t\t 21296.0 \t\t\t\n",
      "3 \t\t\t KIRTI \t\t\t 1252.0 \t\t\t 1377.2 \t\t\t 0 \t\t\t 15149.2 \t\t\t\n",
      "4 \t\t\t RAHUL \t\t\t 3535.3 \t\t\t 3888.83 \t\t\t 0 \t\t\t 42777.13 \t\t\t\n",
      "5 \t\t\t USMAN \t\t\t 566.0 \t\t\t 1245.2 \t\t\t 0 \t\t\t 13131.2 \t\t\t\n"
     ]
    }
   ],
   "source": [
    "n=int(input(\"enter the number of employees\"))\n",
    "print (\"Sl.No. \\t\\t\\t Name \\t\\t\\t Bonus \\t\\t\\t DA \\t\\t\\t Performance Allowance \\t\\t\\t Net Salary \\n\")\n",
    "for i in range(n):\n",
    "    name=input((\"Enter the name\"))\n",
    "    basic_salary=int(input(\"Enter the basic salary\"))\n",
    "    year_of_service=int(input(\"Enter the year of service\"))\n",
    "    rating=input((\"Enter the rating\"))\n",
    "    if year_of_service<5:\n",
    "        bonus=basic_salary*5/100\n",
    "        da=basic_salary*11/100\n",
    "        performance_allowance=0\n",
    "    elif year_of_service>=5 and year_of_service<=10:\n",
    "        bonus=basic_salary*10/100\n",
    "        da=basic_salary*11/100\n",
    "        performance_allowance=0\n",
    "    else:\n",
    "        bonus=basic_salary*17/100\n",
    "        da=basic_salary*11/100\n",
    "        if rating=='A':\n",
    "            performance_allowance=basic_salary*15/100\n",
    "        elif rating=='B':\n",
    "            performance_allowance=basic_salary*8/100\n",
    "        else:\n",
    "            performance_allowance=basic_salary*4/100\n",
    "    print(i+1,\"\\t\\t\\t\",name,\"\\t\\t\\t\",bonus,\"\\t\\t\\t\",da,\"\\t\\t\\t\",performance_allowance,\"\\t\\t\\t\",bonus+da+performance_allowance+basic_salary,\"\\t\\t\\t\")"
   ]
  },
  {
   "cell_type": "markdown",
   "metadata": {},
   "source": [
    "### Q5\n",
    "###  Print the sum of the of all even numbers between X and Y. X & Y are two integer given by user\n"
   ]
  },
  {
   "cell_type": "code",
   "execution_count": 10,
   "metadata": {},
   "outputs": [
    {
     "name": "stdout",
     "output_type": "stream",
     "text": [
      "The sum of all even numbers between X and Y is:  30\n"
     ]
    }
   ],
   "source": [
    "X = int(input(\"Enter the value of X: \"))\n",
    "Y = int(input(\"Enter the value of Y: \"))\n",
    "\n",
    "sum=0\n",
    "for i in range(X,Y+1):\n",
    "    if i%2==0:\n",
    "        sum = sum + i\n",
    "print(\"The sum of all even numbers between X and Y is: \",sum)"
   ]
  },
  {
   "cell_type": "markdown",
   "metadata": {},
   "source": [
    "### Q6\n",
    "###  Print all the leap year from the year 1001 till 2021"
   ]
  },
  {
   "cell_type": "code",
   "execution_count": 11,
   "metadata": {},
   "outputs": [
    {
     "name": "stdout",
     "output_type": "stream",
     "text": [
      "1004\n",
      "1008\n",
      "1012\n",
      "1016\n",
      "1020\n",
      "1024\n",
      "1028\n",
      "1032\n",
      "1036\n",
      "1040\n",
      "1044\n",
      "1048\n",
      "1052\n",
      "1056\n",
      "1060\n",
      "1064\n",
      "1068\n",
      "1072\n",
      "1076\n",
      "1080\n",
      "1084\n",
      "1088\n",
      "1092\n",
      "1096\n",
      "1100\n",
      "1104\n",
      "1108\n",
      "1112\n",
      "1116\n",
      "1120\n",
      "1124\n",
      "1128\n",
      "1132\n",
      "1136\n",
      "1140\n",
      "1144\n",
      "1148\n",
      "1152\n",
      "1156\n",
      "1160\n",
      "1164\n",
      "1168\n",
      "1172\n",
      "1176\n",
      "1180\n",
      "1184\n",
      "1188\n",
      "1192\n",
      "1196\n",
      "1200\n",
      "1204\n",
      "1208\n",
      "1212\n",
      "1216\n",
      "1220\n",
      "1224\n",
      "1228\n",
      "1232\n",
      "1236\n",
      "1240\n",
      "1244\n",
      "1248\n",
      "1252\n",
      "1256\n",
      "1260\n",
      "1264\n",
      "1268\n",
      "1272\n",
      "1276\n",
      "1280\n",
      "1284\n",
      "1288\n",
      "1292\n",
      "1296\n",
      "1300\n",
      "1304\n",
      "1308\n",
      "1312\n",
      "1316\n",
      "1320\n",
      "1324\n",
      "1328\n",
      "1332\n",
      "1336\n",
      "1340\n",
      "1344\n",
      "1348\n",
      "1352\n",
      "1356\n",
      "1360\n",
      "1364\n",
      "1368\n",
      "1372\n",
      "1376\n",
      "1380\n",
      "1384\n",
      "1388\n",
      "1392\n",
      "1396\n",
      "1400\n",
      "1404\n",
      "1408\n",
      "1412\n",
      "1416\n",
      "1420\n",
      "1424\n",
      "1428\n",
      "1432\n",
      "1436\n",
      "1440\n",
      "1444\n",
      "1448\n",
      "1452\n",
      "1456\n",
      "1460\n",
      "1464\n",
      "1468\n",
      "1472\n",
      "1476\n",
      "1480\n",
      "1484\n",
      "1488\n",
      "1492\n",
      "1496\n",
      "1500\n",
      "1504\n",
      "1508\n",
      "1512\n",
      "1516\n",
      "1520\n",
      "1524\n",
      "1528\n",
      "1532\n",
      "1536\n",
      "1540\n",
      "1544\n",
      "1548\n",
      "1552\n",
      "1556\n",
      "1560\n",
      "1564\n",
      "1568\n",
      "1572\n",
      "1576\n",
      "1580\n",
      "1584\n",
      "1588\n",
      "1592\n",
      "1596\n",
      "1600\n",
      "1604\n",
      "1608\n",
      "1612\n",
      "1616\n",
      "1620\n",
      "1624\n",
      "1628\n",
      "1632\n",
      "1636\n",
      "1640\n",
      "1644\n",
      "1648\n",
      "1652\n",
      "1656\n",
      "1660\n",
      "1664\n",
      "1668\n",
      "1672\n",
      "1676\n",
      "1680\n",
      "1684\n",
      "1688\n",
      "1692\n",
      "1696\n",
      "1700\n",
      "1704\n",
      "1708\n",
      "1712\n",
      "1716\n",
      "1720\n",
      "1724\n",
      "1728\n",
      "1732\n",
      "1736\n",
      "1740\n",
      "1744\n",
      "1748\n",
      "1752\n",
      "1756\n",
      "1760\n",
      "1764\n",
      "1768\n",
      "1772\n",
      "1776\n",
      "1780\n",
      "1784\n",
      "1788\n",
      "1792\n",
      "1796\n",
      "1800\n",
      "1804\n",
      "1808\n",
      "1812\n",
      "1816\n",
      "1820\n",
      "1824\n",
      "1828\n",
      "1832\n",
      "1836\n",
      "1840\n",
      "1844\n",
      "1848\n",
      "1852\n",
      "1856\n",
      "1860\n",
      "1864\n",
      "1868\n",
      "1872\n",
      "1876\n",
      "1880\n",
      "1884\n",
      "1888\n",
      "1892\n",
      "1896\n",
      "1900\n",
      "1904\n",
      "1908\n",
      "1912\n",
      "1916\n",
      "1920\n",
      "1924\n",
      "1928\n",
      "1932\n",
      "1936\n",
      "1940\n",
      "1944\n",
      "1948\n",
      "1952\n",
      "1956\n",
      "1960\n",
      "1964\n",
      "1968\n",
      "1972\n",
      "1976\n",
      "1980\n",
      "1984\n",
      "1988\n",
      "1992\n",
      "1996\n",
      "2000\n",
      "2004\n",
      "2008\n",
      "2012\n",
      "2016\n",
      "2020\n",
      "2020\n"
     ]
    }
   ],
   "source": [
    "for year in range(1001,2021):\n",
    "    if (year % 4) == 0:\n",
    "        if (year % 100) == 0:\n",
    "             if (year % 400) == 0:\n",
    "                  print(year)\n",
    "             else:\n",
    "                  print(year)\n",
    "        else:\n",
    "             print(year)\n",
    "else:\n",
    "        print(year)"
   ]
  },
  {
   "cell_type": "markdown",
   "metadata": {},
   "source": [
    "### Q4\n",
    "###  Write a Program to print the Absolute value in case of an integer and round up value in case of a float."
   ]
  },
  {
   "cell_type": "code",
   "execution_count": 25,
   "metadata": {},
   "outputs": [
    {
     "name": "stdout",
     "output_type": "stream",
     "text": [
      "The absolute value of a is:  43\n"
     ]
    }
   ],
   "source": [
    "a=input(\"Enter the value of a: \")\n",
    "\n",
    "if((type(a)==int)):\n",
    "    print(\"The absolute value of a is: \",abs(a))\n",
    "else:\n",
    "    print(\"The absolute value of a is: \",round((float)(a)))"
   ]
  }
 ],
 "metadata": {
  "interpreter": {
   "hash": "ac59ebe37160ed0dfa835113d9b8498d9f09ceb179beaac4002f036b9467c963"
  },
  "kernelspec": {
   "display_name": "Python 3.9.6 64-bit",
   "language": "python",
   "name": "python3"
  },
  "language_info": {
   "codemirror_mode": {
    "name": "ipython",
    "version": 3
   },
   "file_extension": ".py",
   "mimetype": "text/x-python",
   "name": "python",
   "nbconvert_exporter": "python",
   "pygments_lexer": "ipython3",
   "version": "3.9.6"
  },
  "orig_nbformat": 4
 },
 "nbformat": 4,
 "nbformat_minor": 2
}
