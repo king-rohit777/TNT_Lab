{
  "cells": [
    {
      "cell_type": "markdown",
      "metadata": {},
      "source": [
        "Define a Class Complex with the following field : i.Real & ii Imaginary. \n",
        "- Overload the __str__ function in such a way that, the output  3 + 4i\n",
        "- Overload the constructor that it takes input from user for real and imaginary part\n",
        "- Write add, sub, mul function for class complex \n"
      ]
    },
    {
      "cell_type": "code",
      "execution_count": null,
      "metadata": {
        "colab": {
          "base_uri": "https://localhost:8080/"
        },
        "id": "gYMtalCiZqly",
        "outputId": "e14179cc-4460-487b-99c1-0495c74daa49"
      },
      "outputs": [
        {
          "name": "stdout",
          "output_type": "stream",
          "text": [
            "4 + 6i\n",
            "-2 + -2i\n",
            "-5 + 10i\n"
          ]
        }
      ],
      "source": [
        "class complex:\n",
        "    def __init__(self, real, imag):  # constructor\n",
        "        self.real = real\n",
        "        self.imag = imag\n",
        "\n",
        "    def __str__(self):\n",
        "        return str(self.real) + \" + \" + str(self.imag) + \"i\"\n",
        "\n",
        "    def add(self, other):\n",
        "        return complex(self.real + other.real, self.imag + other.imag)\n",
        "\n",
        "    def sub(self, other):\n",
        "        return complex(self.real - other.real, self.imag - other.imag)\n",
        "\n",
        "    def mul(self, other):\n",
        "        return complex(self.real * other.real - self.imag * other.imag,\n",
        "                       self.real * other.imag + self.imag * other.real)\n",
        "x=complex(1,2)\n",
        "y=complex(3,4)\n",
        "print(x.add(y))\n",
        "print(x.sub(y))\n",
        "print(x.mul(y))"
      ]
    },
    {
      "cell_type": "code",
      "execution_count": null,
      "metadata": {},
      "outputs": [],
      "source": []
    },
    {
      "cell_type": "code",
      "execution_count": null,
      "metadata": {
        "colab": {
          "base_uri": "https://localhost:8080/"
        },
        "id": "8nJnLsAlkkMc",
        "outputId": "4d666919-e052-4190-f122-001288683dae"
      },
      "outputs": [
        {
          "name": "stdout",
          "output_type": "stream",
          "text": [
            "<0,0>\n",
            "<2,3>\n",
            "euclidean distance6.5\n",
            "manhattan distance5\n",
            "slope distance1.5\n",
            "angle between-2.158798930342464\n"
          ]
        }
      ],
      "source": [
        "import math\n",
        "class Point:\n",
        "    \n",
        "    def __init__(self, x=0, y=0): # constructor\n",
        "        self.x = x\n",
        "        self.y = y\n",
        "    \n",
        "\n",
        "    def __str__(self):\n",
        "        return \"<\" + str(self.x) + \",\" + str(self.y) + \">\"\n",
        "\n",
        "    def euclideanDistance(self, other):\n",
        "        return ((self.x - other.x)**2 + (self.y - other.y)**2)*0.5\n",
        "\n",
        "    def manhattanDistance(self, other):\n",
        "        return abs(self.x - other.x) + abs(self.y - other.y)\n",
        "\n",
        "    def slopeDistance(self, other):\n",
        "        return (self.y - other.y)/(self.x - other.x)\n",
        "\n",
        "    def angleBetween(self, other):\n",
        "        \n",
        "        return math.atan2(self.y - other.y, self.x - other.x)#arc tangent\n",
        "\n",
        "x=Point()\n",
        "y=Point(2,3)\n",
        "print(x)\n",
        "print(y)\n",
        "print(f'euclidean distance{x.euclideanDistance(y)}')\n",
        "print(f'manhattan distance{x.manhattanDistance(y)}')\n",
        "print(f'slope distance{x.slopeDistance(y)}')\n",
        "print(f'angle between{x.angleBetween(y)}')"
      ]
    }
  ],
  "metadata": {
    "colab": {
      "name": "T&tlab_6.ipynb",
      "provenance": []
    },
    "kernelspec": {
      "display_name": "Python 3",
      "name": "python3"
    },
    "language_info": {
      "name": "python"
    }
  },
  "nbformat": 4,
  "nbformat_minor": 0
}
