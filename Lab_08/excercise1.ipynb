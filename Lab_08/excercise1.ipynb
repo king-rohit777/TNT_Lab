{
 "cells": [
  {
   "cell_type": "markdown",
   "metadata": {},
   "source": [
    "Define a Class Complex with the following field : i.Real & ii Imaginary. \n",
    "- Overload the __str__ function in such a way that, the output  3 + 4i\n",
    "- Overload the constructor that it takes input from user for real and imaginary part\n",
    "- Write add, sub, mul function for class complex \n"
   ]
  },
  {
   "cell_type": "code",
   "execution_count": 1,
   "metadata": {},
   "outputs": [
    {
     "name": "stdout",
     "output_type": "stream",
     "text": [
      "4 + 6i\n",
      "-2 + -2i\n",
      "-5 + 10i\n"
     ]
    }
   ],
   "source": [
    "class complex:\n",
    "    def __init__(self, real, imag):  # constructor\n",
    "        self.real = real\n",
    "        self.imag = imag\n",
    "\n",
    "    def __str__(self):\n",
    "        return str(self.real) + \" + \" + str(self.imag) + \"i\"\n",
    "\n",
    "    def add(self, other):\n",
    "        return complex(self.real + other.real, self.imag + other.imag)\n",
    "\n",
    "    def sub(self, other):\n",
    "        return complex(self.real - other.real, self.imag - other.imag)\n",
    "\n",
    "    def mul(self, other):\n",
    "        return complex(self.real * other.real - self.imag * other.imag,\n",
    "                       self.real * other.imag + self.imag * other.real)\n",
    "x=complex(1,2)\n",
    "y=complex(3,4)\n",
    "print(x.add(y))\n",
    "print(x.sub(y))\n",
    "print(x.mul(y))"
   ]
  },
  {
   "cell_type": "markdown",
   "metadata": {},
   "source": [
    "Define a class Point having fields x and y coordinates. \n",
    "- Overload the constructor such that you can create a point by writing p1 = Point(3,5).\n",
    "- Write down a default constructor, such that if no parameters are passed a point will be created at <0, 0>\n",
    "- Overload the \" __str__ \" function such that the output will be in the form <2, 3>\n",
    "- Add  a function euclidean to the such that calculate euclidean distance between two point \n",
    "- Add a function manhattan such that it calculates the manhattan distance between two points. \n",
    "- Add a function Slope that returns the slope of the vectors connecting orgin points with the point.\n",
    "- Find the similarity between the two points by finding the angel between two points.\n"
   ]
  },
  {
   "cell_type": "code",
   "execution_count": 4,
   "metadata": {},
   "outputs": [
    {
     "name": "stdout",
     "output_type": "stream",
     "text": [
      "<0,0>\n",
      "<2,3>\n",
      "euclidean distance: 6.5\n",
      "manhattan distance: 5\n",
      "slope distance: 1.5\n",
      "angle between: -2.158798930342464\n"
     ]
    }
   ],
   "source": [
    "import math\n",
    "class Point:\n",
    "    \n",
    "    def __init__(self, x=0, y=0): # constructor\n",
    "        self.x = x\n",
    "        self.y = y\n",
    "    \n",
    "\n",
    "    def __str__(self):\n",
    "        return \"<\" + str(self.x) + \",\" + str(self.y) + \">\"\n",
    "\n",
    "    def euclideanDistance(self, other):\n",
    "        return ((self.x - other.x)**2 + (self.y - other.y)**2)*0.5\n",
    "\n",
    "    def manhattanDistance(self, other):\n",
    "        return abs(self.x - other.x) + abs(self.y - other.y)\n",
    "\n",
    "    def slopeDistance(self, other):\n",
    "        return (self.y - other.y)/(self.x - other.x)\n",
    "\n",
    "    def angleBetween(self, other):\n",
    "        \n",
    "        return math.atan2(self.y - other.y, self.x - other.x)#arc tangent\n",
    "\n",
    "x=Point()\n",
    "y=Point(2,3)\n",
    "print(x)\n",
    "print(y)\n",
    "print(f'euclidean distance: {x.euclideanDistance(y)}')\n",
    "print(f'manhattan distance: {x.manhattanDistance(y)}')\n",
    "print(f'slope distance: {x.slopeDistance(y)}')\n",
    "print(f'angle between: {x.angleBetween(y)}')"
   ]
  }
 ],
 "metadata": {
  "interpreter": {
   "hash": "ac59ebe37160ed0dfa835113d9b8498d9f09ceb179beaac4002f036b9467c963"
  },
  "kernelspec": {
   "display_name": "Python 3.9.6 64-bit",
   "language": "python",
   "name": "python3"
  },
  "language_info": {
   "codemirror_mode": {
    "name": "ipython",
    "version": 3
   },
   "file_extension": ".py",
   "mimetype": "text/x-python",
   "name": "python",
   "nbconvert_exporter": "python",
   "pygments_lexer": "ipython3",
   "version": "3.9.6"
  },
  "orig_nbformat": 4
 },
 "nbformat": 4,
 "nbformat_minor": 2
}
