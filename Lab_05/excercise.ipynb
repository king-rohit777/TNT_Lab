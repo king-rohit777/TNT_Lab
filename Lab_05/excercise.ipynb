{
 "cells": [
  {
   "cell_type": "markdown",
   "metadata": {},
   "source": [
    "Q1. Take two sorted arrays as input, Write a program to merge them into a new array in such a way that the resultant array is sorted."
   ]
  },
  {
   "cell_type": "code",
   "execution_count": 7,
   "metadata": {},
   "outputs": [
    {
     "name": "stdout",
     "output_type": "stream",
     "text": [
      "The first array is:  [1, 2, 3, 4, 5]\n",
      "The second array is:  [6, 7, 8, 9, 10]\n",
      "The merged array is: \n",
      "1 2 3 4 5 6 7 8 9 10 "
     ]
    }
   ],
   "source": [
    "def mergeArrays(arr1, arr2, n1, n2):\n",
    "    arr3 = [0] * (n1 + n2)\n",
    "\n",
    "    i = 0\n",
    "    j = 0\n",
    "    k = 0\n",
    " \n",
    "    while i < n1 and j < n2:\n",
    "        if arr1[i] < arr2[j]:\n",
    "            arr3[k] = arr1[i]\n",
    "            k = k + 1\n",
    "            i = i + 1\n",
    "        else:\n",
    "            arr3[k] = arr2[j]\n",
    "            k = k + 1\n",
    "            j = j + 1\n",
    " \n",
    "    while i < n1:\n",
    "        arr3[k] = arr1[i]\n",
    "        k = k + 1\n",
    "        i = i + 1\n",
    " \n",
    "    while j < n2:\n",
    "        arr3[k] = arr2[j]\n",
    "        k = k + 1\n",
    "        j = j + 1\n",
    "\n",
    "    for i in range (len(arr3)):\n",
    "        print(arr3[i], end = \" \")\n",
    "\n",
    "\n",
    "    \n",
    "n1 = int(input(\"Enter the length of the first array: \"))\n",
    "arr1 = []\n",
    "for i in range(n1):\n",
    "    arr1.append(int(input(\"Enter the element: \")))\n",
    "\n",
    "n2 = int(input(\"Enter the length of the second array: \"))\n",
    "arr2 = []\n",
    "for i in range(n2):\n",
    "    arr2.append(int(input(\"Enter the element: \")))\n",
    "\n",
    "print(\"The first array is: \", arr1)\n",
    "print(\"The second array is: \", arr2)\n",
    "print (\"The merged array is: \")\n",
    "mergeArrays(arr1, arr2, n1, n2)"
   ]
  },
  {
   "cell_type": "markdown",
   "metadata": {},
   "source": [
    "Q2. Take a sorted array, and an integer. Write a program to add the integer to the array in such a way that the resultant array remains sorted as the original one. You can not use any other array."
   ]
  },
  {
   "cell_type": "code",
   "execution_count": 1,
   "metadata": {},
   "outputs": [
    {
     "name": "stdout",
     "output_type": "stream",
     "text": [
      "[1, 2, 3, 4, 5, 6, 7, 8, 9, 10, 11]\n"
     ]
    }
   ],
   "source": [
    "def add_to_sorted_array(arr, n):\n",
    "    if len(arr) == 0:\n",
    "        return [n]\n",
    "    if n <= arr[0]:\n",
    "        return [n] + arr\n",
    "    if n > arr[-1]:\n",
    "        return arr + [n]\n",
    "    for i in range(len(arr)):\n",
    "        if n <= arr[i]:\n",
    "            return arr[:i] + [n] + arr[i:]\n",
    "\n",
    "arr1 = [1, 2, 3, 4, 5, 6, 7, 8, 9, 10]\n",
    "\n",
    "print(add_to_sorted_array(arr1, 11))"
   ]
  },
  {
   "cell_type": "markdown",
   "metadata": {},
   "source": [
    "Q3. Take any random array of 15 elements. Select one element from the array. Arrange the array in such a way that, the one half of the array is less than the selected element, other half is greater or equal to the selected element."
   ]
  },
  {
   "cell_type": "code",
   "execution_count": 9,
   "metadata": {},
   "outputs": [
    {
     "name": "stdout",
     "output_type": "stream",
     "text": [
      "[11, 13, 13, 15, 30, 35, 47, 48, 49, 51, 56, 62, 64, 74, 92]\n"
     ]
    }
   ],
   "source": [
    "arr = [11, 92, 13, 74, 15, 56, 47, 48, 49, 30, 51, 62, 13, 64, 35]\n",
    "\n",
    "n=input(\"Select an element from the array: \")\n",
    "\n",
    "for i in range(len(arr)):\n",
    "  for j in range(i+1,len(arr)):\n",
    "    if arr[i]>arr[j]:\n",
    "      arr[i],arr[j]=arr[j],arr[i]\n",
    "print(arr)\n",
    "\n"
   ]
  },
  {
   "cell_type": "markdown",
   "metadata": {},
   "source": [
    "Q4. Question no. 3 in single pass"
   ]
  },
  {
   "cell_type": "code",
   "execution_count": 5,
   "metadata": {},
   "outputs": [
    {
     "name": "stdout",
     "output_type": "stream",
     "text": [
      "Sorted array is:\n",
      "5\n",
      "6\n",
      "11\n",
      "12\n",
      "13\n"
     ]
    }
   ],
   "source": [
    "arr = [12, 11, 13, 5, 6]\n",
    "\n",
    "for i in range(1, len(arr)):\n",
    "\tkey = arr[i]\n",
    "\tj = i-1\n",
    "\twhile j >=0 and key < arr[j] :\n",
    "\t\tarr[j+1] = arr[j]\n",
    "\t\tj -= 1\n",
    "\tarr[j+1] = key\n",
    "\n",
    "print (\"Sorted array is:\")\n",
    "\n",
    "for i in range(len(arr)):\n",
    "\tprint (\"%d\" %arr[i])\n"
   ]
  },
  {
   "cell_type": "markdown",
   "metadata": {},
   "source": [
    "Q5. Calculate number of comparisons between elements made and swapping of elements made in above program."
   ]
  },
  {
   "cell_type": "code",
   "execution_count": 10,
   "metadata": {},
   "outputs": [
    {
     "name": "stdout",
     "output_type": "stream",
     "text": [
      "The number of comparasions made is:  7\n",
      "The number of swaps made is:  4\n",
      "Sorted array is:\n",
      "5\n",
      "6\n",
      "11\n",
      "12\n",
      "13\n"
     ]
    }
   ],
   "source": [
    "arr = [12, 11, 13, 5, 6]\n",
    "comp = 0\n",
    "swap = 0\n",
    "for i in range(1, len(arr)):\n",
    "\tkey = arr[i]\n",
    "\tj = i-1\n",
    "\twhile j >=0 and key < arr[j] :\n",
    "\t\tcomp+=1\n",
    "\t\tarr[j+1] = arr[j]\n",
    "\t\tj -= 1\n",
    "\tarr[j+1] = key\n",
    "\tswap+=1\n",
    "\n",
    "print(\"The number of comparasions made is: \",comp)\n",
    "print(\"The number of swaps made is: \",swap)\n",
    "\n",
    "print (\"Sorted array is:\")\n",
    "\n",
    "for i in range(len(arr)):\n",
    "\tprint (\"%d\" %arr[i])"
   ]
  }
 ],
 "metadata": {
  "interpreter": {
   "hash": "ac59ebe37160ed0dfa835113d9b8498d9f09ceb179beaac4002f036b9467c963"
  },
  "kernelspec": {
   "display_name": "Python 3.9.6 64-bit",
   "language": "python",
   "name": "python3"
  },
  "language_info": {
   "codemirror_mode": {
    "name": "ipython",
    "version": 3
   },
   "file_extension": ".py",
   "mimetype": "text/x-python",
   "name": "python",
   "nbconvert_exporter": "python",
   "pygments_lexer": "ipython3",
   "version": "3.9.6"
  },
  "orig_nbformat": 4
 },
 "nbformat": 4,
 "nbformat_minor": 2
}
