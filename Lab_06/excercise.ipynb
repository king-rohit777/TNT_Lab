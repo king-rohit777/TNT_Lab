{
 "cells": [
  {
   "cell_type": "markdown",
   "metadata": {},
   "source": [
    "Q1.  Consider the following relational database\n",
    "\n",
    "ENo,\n",
    "EName,\n",
    "Sal,\n",
    "Dept ID,\n",
    "Mngr, \n",
    "\n",
    "Design an efficient storage using python data structures such that each attribute can be accessed through its name.\n",
    "Create a menu driven program that takes user input makes insertion to the database, retrieval from database, and delete from database.\n"
   ]
  },
  {
   "cell_type": "code",
   "execution_count": 45,
   "metadata": {},
   "outputs": [
    {
     "name": "stdout",
     "output_type": "stream",
     "text": [
      "\n",
      " Main Menu\n",
      "1. Insert an element\n",
      "2. Access an element\n",
      "3. Delete an element\n",
      "4. Exit\n",
      "{'ENo': '123', 'EName': 'rohit', 'Sal': '3455', 'Dept_ID': '32', 'Mngr': '23'}\n",
      "\n",
      " Main Menu\n",
      "1. Insert an element\n",
      "2. Access an element\n",
      "3. Delete an element\n",
      "4. Exit\n",
      "{'ENo': '112', 'EName': 'rohan', 'Sal': '3455', 'Dept_ID': '23', 'Mngr': '123'}\n",
      "\n",
      " Main Menu\n",
      "1. Insert an element\n",
      "2. Access an element\n",
      "3. Delete an element\n",
      "4. Exit\n"
     ]
    }
   ],
   "source": [
    "dict1 = {0: {\"ENo\": 110, \"EName\": 'Kunal', \"Sal\": 1000, \"Dept_ID\": 202, \"Mngr\": \"Rajdeep\"}}\n",
    "\n",
    "def insert_dict(index1, ENo, EName, Sal, Dept_ID, Mngr):\n",
    "    dict1[index1] = {}\n",
    "    dict1[index1][\"ENo\"] = ENo\n",
    "    dict1[index1][\"EName\"] = EName\n",
    "    dict1[index1][\"Sal\"] = Sal\n",
    "    dict1[index1][\"Dept_ID\"] = Dept_ID\n",
    "    dict1[index1][\"Mngr\"] = Mngr\n",
    "    \n",
    "    print(dict1[index1])\n",
    "    \n",
    "def access_dict(index1, key1):\n",
    "    print(dict1[index1][key1])\n",
    "    print(\"Items in dictionary: \", dict1)\n",
    "    \n",
    "def del_dict(index1, key1):\n",
    "    del dict1[index1][key1]\n",
    "    print(dict1[index1])\n",
    "\n",
    "while True:\n",
    "    print(\"\\n Main Menu\")\n",
    "    print(\"1. Insert an element\")\n",
    "    print(\"2. Access an element\")\n",
    "    print(\"3. Delete an element\")\n",
    "    print(\"4. Exit\")\n",
    "    choice1 = int(input(\"Enter your choice\"))\n",
    "    \n",
    "    if choice1 == 1:\n",
    "        index1 = input(\"Enter your index: \")\n",
    "        ENo = input(\"Enter your ENo: \")\n",
    "        EName = input(\"Enter your EName: \")\n",
    "        Sal = input(\"Enter your Sal: \")\n",
    "        Dept_ID = input(\"Enter your Dept_ID: \")\n",
    "        Mngr = input(\"Enter your Mngr: \")\n",
    "        \n",
    "        insert_dict(index1, ENo, EName, Sal, Dept_ID, Mngr)\n",
    "    \n",
    "    elif choice1 == 2:\n",
    "        index1 = input(\"Enter your index: \")\n",
    "        key1 = input(\"Enter the key: \")\n",
    "        access_dict(index1, key1)\n",
    "        \n",
    "    elif choice1 == 3:\n",
    "        index1 = input(\"Enter index for deletion: \")\n",
    "        key1 = input(\"Enter the key for deletion: \")\n",
    "        del_dict(index1, key1)\n",
    "        \n",
    "    elif choice1 == 4:\n",
    "        break\n",
    "    \n",
    "    else:\n",
    "        print(\"Incorrect choice. Try again :)\")"
   ]
  },
  {
   "cell_type": "markdown",
   "metadata": {},
   "source": [
    "Q2. Implement stack using a Python List. Design Push, pop and peep function. "
   ]
  },
  {
   "cell_type": "code",
   "execution_count": 42,
   "metadata": {},
   "outputs": [
    {
     "name": "stdout",
     "output_type": "stream",
     "text": [
      "The list declared is:  [1, 2, 3, 4, 5]\n",
      "The item entered is:  5\n",
      "The list after pushing new element is:  [1, 2, 3, 4, 5, 5]\n",
      "The item entered is:  4\n",
      "The list after pushing new element is:  [1, 2, 3, 4, 5, 5, 4]\n",
      "The item entered is:  3\n",
      "The list after pushing new element is:  [1, 2, 3, 4, 5, 5, 4, 3]\n",
      "The item entered is:  2\n",
      "The list after pushing new element is:  [1, 2, 3, 4, 5, 5, 4, 3, 2]\n",
      "The item entered is:  1\n",
      "The list after pushing new element is:  [1, 2, 3, 4, 5, 5, 4, 3, 2, 1]\n",
      "The item entered is:  3\n",
      "The item popped is:  [1, 2, 3, 5, 5, 4, 3, 2, 1]\n",
      "The item entered is:  2\n",
      "The item popped is:  [1, 2, 5, 5, 4, 3, 2, 1]\n",
      "The item peeked is:  1\n"
     ]
    }
   ],
   "source": [
    "def push(stack, item):\n",
    "    stack.append(item)\n",
    "    return stack\n",
    "def pop(stack,item):\n",
    "    if len(stack) == 0:\n",
    "        return \"Stack is empty\"\n",
    "    else:\n",
    "        stack.pop(item)\n",
    "        return stack\n",
    "def peep(stack):\n",
    "    if len(stack) == 0:\n",
    "        return \"Stack is empty\"\n",
    "    else:\n",
    "        return stack[-1]\n",
    "\n",
    "list = [1,2,3,4,5]\n",
    "condition = True\n",
    "print(\"The list declared is: \", list)\n",
    "while condition == True:\n",
    "    choice = int(input(\"Enter 1 to push, 2 to pop, 3 to peek: \"))\n",
    "    if choice == 1:\n",
    "        item = int(input(\"Enter the item to be pushed: \"))\n",
    "        print(\"The item entered is: \", item)\n",
    "        print(\"The list after pushing new element is: \",push(list, item))\n",
    "        cond = input(\"Do you want to continue? (y/n): \")\n",
    "        if cond == 'y':\n",
    "            condition = True\n",
    "        elif cond == 'n':\n",
    "            condition = False\n",
    "        else:\n",
    "            print(\"Invalid input entered\")\n",
    "    elif choice == 2:\n",
    "        item = int(input(\"Enter the position from where the item needs to be popped: \"))\n",
    "        print(\"The item entered is: \", item)\n",
    "        print(\"The item popped is: \", pop(list,item))\n",
    "        cond = input(\"Do you want to continue? (y/n): \")\n",
    "        if cond == 'y':\n",
    "            condition = True\n",
    "        elif cond == 'n':\n",
    "            condition = False\n",
    "        else:\n",
    "            print(\"Invalid input entered\")\n",
    "    elif choice == 3:\n",
    "        print(\"The item peeked is: \", peep(list))\n",
    "        cond = input(\"Do you want to continue? (y/n): \")\n",
    "        if cond == 'y':\n",
    "            condition = True\n",
    "        elif cond == 'n':\n",
    "            condition = False\n",
    "        else:\n",
    "            print(\"Invalid input entered\")\n",
    "    else:\n",
    "        print(\"Invalid choice\")"
   ]
  },
  {
   "cell_type": "markdown",
   "metadata": {},
   "source": [
    " Q3. Implement a Queue using python List. Design Enqueue, Dequeue function.\n"
   ]
  },
  {
   "cell_type": "code",
   "execution_count": 43,
   "metadata": {},
   "outputs": [
    {
     "name": "stdout",
     "output_type": "stream",
     "text": [
      "The list declared is:  []\n",
      "The item entered is:  5\n",
      "The list after enqueuing new element is:  [5]\n",
      "The item entered is:  4\n",
      "The list after enqueuing new element is:  [5, 4]\n",
      "The item entered is:  3\n",
      "The list after enqueuing new element is:  [5, 4, 3]\n",
      "The item dequeued is:  5\n",
      "The item dequeued is:  4\n"
     ]
    }
   ],
   "source": [
    "def enqueue(queue, item):\n",
    "    queue.append(item)\n",
    "    return queue\n",
    "def dequeue(queue):\n",
    "    if len(queue) == 0:\n",
    "        return \"Queue is empty\"\n",
    "    else:\n",
    "        return queue.pop(0)\n",
    "\n",
    "list = []\n",
    "condition = True\n",
    "print(\"The list declared is: \", list)\n",
    "while condition == True:\n",
    "    choice = int(input(\"Enter 1 to enqueue, 2 to dequeue: \"))\n",
    "    if choice == 1:\n",
    "        item = int(input(\"Enter the item to be enqueued: \"))\n",
    "        print(\"The item entered is: \", item)\n",
    "        print(\"The list after enqueuing new element is: \",enqueue(list, item))\n",
    "        cond = input(\"Do you want to continue? (y/n): \")\n",
    "        if cond == 'y':\n",
    "            condition = True\n",
    "        elif cond == 'n':\n",
    "            condition = False\n",
    "        else:\n",
    "            print(\"Invalid input entered\")\n",
    "    elif choice == 2:\n",
    "        print(\"The item dequeued is: \", dequeue(list))\n",
    "        cond = input(\"Do you want to continue? (y/n): \")\n",
    "        if cond == 'y':\n",
    "            condition = True\n",
    "        elif cond == 'n':\n",
    "            condition = False\n",
    "        else:\n",
    "            print(\"Invalid input entered\")\n",
    "    else:\n",
    "        print(\"Invalid choice\")"
   ]
  },
  {
   "cell_type": "markdown",
   "metadata": {},
   "source": [
    "Q4. Write a function to evaluate a postfix expression using the stack above."
   ]
  },
  {
   "cell_type": "code",
   "execution_count": 46,
   "metadata": {},
   "outputs": [
    {
     "name": "stdout",
     "output_type": "stream",
     "text": [
      "['1', '2', '3', '4']\n",
      "15\n"
     ]
    }
   ],
   "source": [
    "def evaluate(expression):\n",
    "    stack = []\n",
    "    for char in expression:\n",
    "        if char in ['+', '-', '*', ' ']:\n",
    "            continue\n",
    "        else:\n",
    "            stack.append(char)\n",
    "    print(stack)\n",
    "    for char in expression:\n",
    "        if char in ['+', '-', '*', ' ']:\n",
    "            if char == '+':\n",
    "                a = stack.pop()\n",
    "                b = stack.pop()\n",
    "                stack.append(int(a) + int(b))\n",
    "            elif char == '-':\n",
    "                a = stack.pop()\n",
    "                b = stack.pop()\n",
    "                stack.append(int(a) - int(b))\n",
    "            elif char == '*':\n",
    "                a = stack.pop()\n",
    "                b = stack.pop()\n",
    "                stack.append(int(a) * int(b))\n",
    "            else:\n",
    "                continue\n",
    "        else:\n",
    "            stack.append(char)\n",
    "    return stack.pop()\n",
    "\n",
    "Expression = input(\"Enter the postfix expression: \")\n",
    "# 1 2 + 3 4 * +\n",
    "result = evaluate(Expression)\n",
    "print(result)"
   ]
  },
  {
   "cell_type": "markdown",
   "metadata": {},
   "source": [
    "Q5. Consider a string “BHUBANESWAR”,      Use the slicing to fetch the following list (use both possessive and negative slicing)\n",
    "\n",
    "    -> UBA\n",
    "    -> SWAR\n",
    "    -> BANE"
   ]
  },
  {
   "cell_type": "code",
   "execution_count": 41,
   "metadata": {},
   "outputs": [
    {
     "name": "stdout",
     "output_type": "stream",
     "text": [
      "Possessive slicing\n",
      "UBA\n",
      "SWAR\n",
      "BANE\n",
      "Possessive slicing\n",
      "UBA\n",
      "SWAR\n",
      "BANE\n"
     ]
    }
   ],
   "source": [
    "string = 'BHUBANESWAR'\n",
    "print(\"Possessive slicing\")\n",
    "\n",
    "print(string[2:5])  # UBA\n",
    "print(string[7:])  # SWAR\n",
    "print(string[3:7])  # BANE\n",
    "\n",
    "print(\"Negative slicing\")\n",
    "print(string[-9:-6]) # UBA\n",
    "print(string[-4:])  # SWAR\n",
    "print(string[-8:-4])  # BANE\n",
    "\n",
    "\n"
   ]
  }
 ],
 "metadata": {
  "interpreter": {
   "hash": "ac59ebe37160ed0dfa835113d9b8498d9f09ceb179beaac4002f036b9467c963"
  },
  "kernelspec": {
   "display_name": "Python 3.9.6 64-bit",
   "language": "python",
   "name": "python3"
  },
  "language_info": {
   "codemirror_mode": {
    "name": "ipython",
    "version": 3
   },
   "file_extension": ".py",
   "mimetype": "text/x-python",
   "name": "python",
   "nbconvert_exporter": "python",
   "pygments_lexer": "ipython3",
   "version": "3.9.6"
  },
  "orig_nbformat": 4
 },
 "nbformat": 4,
 "nbformat_minor": 2
}
